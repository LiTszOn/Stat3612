{
 "cells": [
  {
   "cell_type": "markdown",
   "metadata": {},
   "source": [
    "# Logistic Regression Keras vs Sklearn"
   ]
  },
  {
   "cell_type": "code",
   "execution_count": 1,
   "metadata": {},
   "outputs": [],
   "source": [
    "import time \n",
    "import numpy as np\n",
    "import pandas as pd \n",
    "from matplotlib import pylab as plt\n",
    "from sklearn.preprocessing import MinMaxScaler \n",
    "from sklearn.model_selection import train_test_split "
   ]
  },
  {
   "cell_type": "markdown",
   "metadata": {},
   "source": [
    "# Getting the data"
   ]
  },
  {
   "cell_type": "code",
   "execution_count": 2,
   "metadata": {},
   "outputs": [
    {
     "name": "stderr",
     "output_type": "stream",
     "text": [
      "Using TensorFlow backend.\n"
     ]
    }
   ],
   "source": [
    "from keras.datasets import mnist \n",
    "# the data, shuffled and split between train and test sets \n",
    "(X_train, y_train), (X_test, y_test) = mnist.load_data()"
   ]
  },
  {
   "cell_type": "markdown",
   "metadata": {},
   "source": [
    "# Reshaping and normalizing the inputs"
   ]
  },
  {
   "cell_type": "code",
   "execution_count": 3,
   "metadata": {},
   "outputs": [],
   "source": [
    "input_dim = 784 #28*28 \n",
    "X_train = X_train.reshape(60000, input_dim) \n",
    "X_test = X_test.reshape(10000, input_dim) \n",
    "x_train = X_train.astype('float32') \n",
    "x_test = X_test.astype('float32') \n",
    "x_train /= 255 \n",
    "x_test /= 255"
   ]
  },
  {
   "cell_type": "code",
   "execution_count": 4,
   "metadata": {},
   "outputs": [],
   "source": [
    "y_train[y_train != 3] = 0\n",
    "y_train[y_train == 3] = 1"
   ]
  },
  {
   "cell_type": "code",
   "execution_count": 5,
   "metadata": {},
   "outputs": [],
   "source": [
    "y_test[y_test != 3] = 0\n",
    "y_test[y_test == 3] = 1"
   ]
  },
  {
   "cell_type": "markdown",
   "metadata": {},
   "source": [
    "# Convert class vectors to binary class matrices\n"
   ]
  },
  {
   "cell_type": "markdown",
   "metadata": {},
   "source": [
    "Build Keras Logistic Regression \n",
    "- Settings"
   ]
  },
  {
   "cell_type": "code",
   "execution_count": 6,
   "metadata": {},
   "outputs": [],
   "source": [
    "batch_size = 256 \n",
    "nb_epoch = 30\n",
    "optimizer = \"adam\""
   ]
  },
  {
   "cell_type": "markdown",
   "metadata": {},
   "source": [
    "Without L1 Regularization"
   ]
  },
  {
   "cell_type": "code",
   "execution_count": 7,
   "metadata": {
    "scrolled": true
   },
   "outputs": [
    {
     "name": "stderr",
     "output_type": "stream",
     "text": [
      "/home/r7user1/anaconda2_local/lib/python2.7/site-packages/ipykernel_launcher.py:8: UserWarning: The `nb_epoch` argument in `fit` has been renamed `epochs`.\n",
      "  \n"
     ]
    },
    {
     "name": "stdout",
     "output_type": "stream",
     "text": [
      "Train on 60000 samples, validate on 10000 samples\n",
      "Epoch 1/30\n",
      "60000/60000 [==============================] - 1s 13us/step - loss: 0.2572 - acc: 0.9128 - val_loss: 0.1614 - val_acc: 0.9512\n",
      "Epoch 2/30\n",
      "60000/60000 [==============================] - 1s 11us/step - loss: 0.1441 - acc: 0.9554 - val_loss: 0.1220 - val_acc: 0.9624\n",
      "Epoch 3/30\n",
      "60000/60000 [==============================] - 1s 11us/step - loss: 0.1209 - acc: 0.9628 - val_loss: 0.1069 - val_acc: 0.9666\n",
      "Epoch 4/30\n",
      "60000/60000 [==============================] - 1s 12us/step - loss: 0.1103 - acc: 0.9661 - val_loss: 0.0981 - val_acc: 0.9701\n",
      "Epoch 5/30\n",
      "60000/60000 [==============================] - 1s 12us/step - loss: 0.1041 - acc: 0.9682 - val_loss: 0.0924 - val_acc: 0.9718\n",
      "Epoch 6/30\n",
      "60000/60000 [==============================] - 1s 12us/step - loss: 0.1000 - acc: 0.9694 - val_loss: 0.0891 - val_acc: 0.9733\n",
      "Epoch 7/30\n",
      "60000/60000 [==============================] - 1s 12us/step - loss: 0.0971 - acc: 0.9703 - val_loss: 0.0861 - val_acc: 0.9744\n",
      "Epoch 8/30\n",
      "60000/60000 [==============================] - 1s 11us/step - loss: 0.0950 - acc: 0.9711 - val_loss: 0.0845 - val_acc: 0.9743\n",
      "Epoch 9/30\n",
      "60000/60000 [==============================] - 1s 11us/step - loss: 0.0932 - acc: 0.9717 - val_loss: 0.0827 - val_acc: 0.9759\n",
      "Epoch 10/30\n",
      "60000/60000 [==============================] - 1s 11us/step - loss: 0.0917 - acc: 0.9722 - val_loss: 0.0816 - val_acc: 0.9756\n",
      "Epoch 11/30\n",
      "60000/60000 [==============================] - 1s 11us/step - loss: 0.0906 - acc: 0.9727 - val_loss: 0.0803 - val_acc: 0.9757\n",
      "Epoch 12/30\n",
      "60000/60000 [==============================] - 1s 11us/step - loss: 0.0895 - acc: 0.9729 - val_loss: 0.0791 - val_acc: 0.9762\n",
      "Epoch 13/30\n",
      "60000/60000 [==============================] - 1s 11us/step - loss: 0.0885 - acc: 0.9736 - val_loss: 0.0784 - val_acc: 0.9756\n",
      "Epoch 14/30\n",
      "60000/60000 [==============================] - 1s 11us/step - loss: 0.0878 - acc: 0.9734 - val_loss: 0.0779 - val_acc: 0.9756\n",
      "Epoch 15/30\n",
      "60000/60000 [==============================] - 1s 12us/step - loss: 0.0869 - acc: 0.9738 - val_loss: 0.0772 - val_acc: 0.9761\n",
      "Epoch 16/30\n",
      "60000/60000 [==============================] - 1s 12us/step - loss: 0.0863 - acc: 0.9742 - val_loss: 0.0762 - val_acc: 0.9773\n",
      "Epoch 17/30\n",
      "60000/60000 [==============================] - 1s 11us/step - loss: 0.0857 - acc: 0.9741 - val_loss: 0.0759 - val_acc: 0.9766\n",
      "Epoch 18/30\n",
      "60000/60000 [==============================] - 1s 12us/step - loss: 0.0850 - acc: 0.9744 - val_loss: 0.0756 - val_acc: 0.9770\n",
      "Epoch 19/30\n",
      "60000/60000 [==============================] - 1s 12us/step - loss: 0.0846 - acc: 0.9746 - val_loss: 0.0753 - val_acc: 0.9770\n",
      "Epoch 20/30\n",
      "60000/60000 [==============================] - 1s 14us/step - loss: 0.0842 - acc: 0.9749 - val_loss: 0.0746 - val_acc: 0.9776\n",
      "Epoch 21/30\n",
      "60000/60000 [==============================] - 1s 16us/step - loss: 0.0837 - acc: 0.9751 - val_loss: 0.0746 - val_acc: 0.9778\n",
      "Epoch 22/30\n",
      "60000/60000 [==============================] - 1s 11us/step - loss: 0.0833 - acc: 0.9752 - val_loss: 0.0741 - val_acc: 0.9777\n",
      "Epoch 23/30\n",
      "60000/60000 [==============================] - 1s 12us/step - loss: 0.0829 - acc: 0.9751 - val_loss: 0.0744 - val_acc: 0.9784\n",
      "Epoch 24/30\n",
      "60000/60000 [==============================] - 1s 11us/step - loss: 0.0825 - acc: 0.9754 - val_loss: 0.0738 - val_acc: 0.9780\n",
      "Epoch 25/30\n",
      "60000/60000 [==============================] - 1s 11us/step - loss: 0.0823 - acc: 0.9753 - val_loss: 0.0736 - val_acc: 0.9781\n",
      "Epoch 26/30\n",
      "60000/60000 [==============================] - 1s 11us/step - loss: 0.0820 - acc: 0.9755 - val_loss: 0.0732 - val_acc: 0.9785\n",
      "Epoch 27/30\n",
      "60000/60000 [==============================] - 1s 12us/step - loss: 0.0815 - acc: 0.9754 - val_loss: 0.0731 - val_acc: 0.9782\n",
      "Epoch 28/30\n",
      "60000/60000 [==============================] - 1s 12us/step - loss: 0.0813 - acc: 0.9757 - val_loss: 0.0734 - val_acc: 0.9784\n",
      "Epoch 29/30\n",
      "60000/60000 [==============================] - 1s 14us/step - loss: 0.0813 - acc: 0.9761 - val_loss: 0.0726 - val_acc: 0.9786\n",
      "Epoch 30/30\n",
      "60000/60000 [==============================] - 1s 12us/step - loss: 0.0809 - acc: 0.9756 - val_loss: 0.0720 - val_acc: 0.9790\n",
      "('Time Cost of Logistic Regression: ', 21.73831605911255)\n",
      "('Accuracy: ', 0.979)\n"
     ]
    }
   ],
   "source": [
    "from keras import regularizers\n",
    "from keras.models import Sequential \n",
    "from keras.layers import Dense, Activation \n",
    "start = time.time()\n",
    "model = Sequential() \n",
    "model.add(Dense(1, input_dim=input_dim, activation='sigmoid', kernel_regularizer=regularizers.l1(0.00))) \n",
    "model.compile(optimizer=optimizer, loss='binary_crossentropy', metrics=['accuracy']) \n",
    "history = model.fit(x_train, y_train, batch_size=batch_size, nb_epoch=nb_epoch, verbose=1, validation_data=(x_test, y_test)) \n",
    "pred_test = model.predict(x_test).reshape([-1])>0.5\n",
    "time_cost = time.time() - start\n",
    "\n",
    "print(\"Time Cost of Logistic Regression: \", time_cost)\n",
    "print(\"Accuracy: \", np.mean(pred_test == y_test))"
   ]
  },
  {
   "cell_type": "markdown",
   "metadata": {},
   "source": [
    "With L1 Regularization"
   ]
  },
  {
   "cell_type": "code",
   "execution_count": 8,
   "metadata": {
    "scrolled": true
   },
   "outputs": [
    {
     "name": "stderr",
     "output_type": "stream",
     "text": [
      "/home/r7user1/anaconda2_local/lib/python2.7/site-packages/ipykernel_launcher.py:5: UserWarning: The `nb_epoch` argument in `fit` has been renamed `epochs`.\n",
      "  \"\"\"\n"
     ]
    },
    {
     "name": "stdout",
     "output_type": "stream",
     "text": [
      "Train on 60000 samples, validate on 10000 samples\n",
      "Epoch 1/30\n",
      "60000/60000 [==============================] - 1s 14us/step - loss: 0.3074 - acc: 0.9004 - val_loss: 0.2051 - val_acc: 0.9410\n",
      "Epoch 2/30\n",
      "60000/60000 [==============================] - 1s 12us/step - loss: 0.1874 - acc: 0.9503 - val_loss: 0.1677 - val_acc: 0.9572\n",
      "Epoch 3/30\n",
      "60000/60000 [==============================] - 1s 13us/step - loss: 0.1653 - acc: 0.9589 - val_loss: 0.1530 - val_acc: 0.9624\n",
      "Epoch 4/30\n",
      "60000/60000 [==============================] - 1s 12us/step - loss: 0.1554 - acc: 0.9620 - val_loss: 0.1452 - val_acc: 0.9663\n",
      "Epoch 5/30\n",
      "60000/60000 [==============================] - 1s 12us/step - loss: 0.1497 - acc: 0.9639 - val_loss: 0.1405 - val_acc: 0.9670\n",
      "Epoch 6/30\n",
      "60000/60000 [==============================] - 1s 12us/step - loss: 0.1460 - acc: 0.9654 - val_loss: 0.1374 - val_acc: 0.9694\n",
      "Epoch 7/30\n",
      "60000/60000 [==============================] - 1s 11us/step - loss: 0.1434 - acc: 0.9663 - val_loss: 0.1350 - val_acc: 0.9698\n",
      "Epoch 8/30\n",
      "60000/60000 [==============================] - 1s 11us/step - loss: 0.1414 - acc: 0.9672 - val_loss: 0.1328 - val_acc: 0.9707\n",
      "Epoch 9/30\n",
      "60000/60000 [==============================] - 1s 11us/step - loss: 0.1399 - acc: 0.9675 - val_loss: 0.1315 - val_acc: 0.9717\n",
      "Epoch 10/30\n",
      "60000/60000 [==============================] - 1s 11us/step - loss: 0.1387 - acc: 0.9683 - val_loss: 0.1303 - val_acc: 0.9719\n",
      "Epoch 11/30\n",
      "60000/60000 [==============================] - 1s 11us/step - loss: 0.1376 - acc: 0.9688 - val_loss: 0.1293 - val_acc: 0.9727\n",
      "Epoch 12/30\n",
      "60000/60000 [==============================] - 1s 12us/step - loss: 0.1366 - acc: 0.9690 - val_loss: 0.1289 - val_acc: 0.9724\n",
      "Epoch 13/30\n",
      "60000/60000 [==============================] - 1s 13us/step - loss: 0.1358 - acc: 0.9695 - val_loss: 0.1278 - val_acc: 0.9726\n",
      "Epoch 14/30\n",
      "60000/60000 [==============================] - 1s 11us/step - loss: 0.1351 - acc: 0.9697 - val_loss: 0.1270 - val_acc: 0.9730\n",
      "Epoch 15/30\n",
      "60000/60000 [==============================] - 1s 10us/step - loss: 0.1345 - acc: 0.9698 - val_loss: 0.1265 - val_acc: 0.9733\n",
      "Epoch 16/30\n",
      "60000/60000 [==============================] - 1s 11us/step - loss: 0.1338 - acc: 0.9703 - val_loss: 0.1263 - val_acc: 0.9731\n",
      "Epoch 17/30\n",
      "60000/60000 [==============================] - 1s 11us/step - loss: 0.1334 - acc: 0.9705 - val_loss: 0.1253 - val_acc: 0.9738\n",
      "Epoch 18/30\n",
      "60000/60000 [==============================] - 1s 11us/step - loss: 0.1328 - acc: 0.9706 - val_loss: 0.1245 - val_acc: 0.9737\n",
      "Epoch 19/30\n",
      "60000/60000 [==============================] - 1s 11us/step - loss: 0.1324 - acc: 0.9708 - val_loss: 0.1240 - val_acc: 0.9736\n",
      "Epoch 20/30\n",
      "60000/60000 [==============================] - 1s 11us/step - loss: 0.1320 - acc: 0.9708 - val_loss: 0.1235 - val_acc: 0.9735\n",
      "Epoch 21/30\n",
      "60000/60000 [==============================] - 1s 11us/step - loss: 0.1316 - acc: 0.9710 - val_loss: 0.1236 - val_acc: 0.9742\n",
      "Epoch 22/30\n",
      "60000/60000 [==============================] - 1s 11us/step - loss: 0.1311 - acc: 0.9710 - val_loss: 0.1227 - val_acc: 0.9741\n",
      "Epoch 23/30\n",
      "60000/60000 [==============================] - 1s 13us/step - loss: 0.1308 - acc: 0.9714 - val_loss: 0.1228 - val_acc: 0.9747\n",
      "Epoch 24/30\n",
      "60000/60000 [==============================] - 1s 13us/step - loss: 0.1304 - acc: 0.9712 - val_loss: 0.1223 - val_acc: 0.9744\n",
      "Epoch 25/30\n",
      "60000/60000 [==============================] - 1s 11us/step - loss: 0.1301 - acc: 0.9712 - val_loss: 0.1220 - val_acc: 0.9740\n",
      "Epoch 26/30\n",
      "60000/60000 [==============================] - 1s 11us/step - loss: 0.1298 - acc: 0.9713 - val_loss: 0.1218 - val_acc: 0.9745\n",
      "Epoch 27/30\n",
      "60000/60000 [==============================] - 1s 11us/step - loss: 0.1296 - acc: 0.9714 - val_loss: 0.1213 - val_acc: 0.9743\n",
      "Epoch 28/30\n",
      "60000/60000 [==============================] - 1s 10us/step - loss: 0.1294 - acc: 0.9710 - val_loss: 0.1219 - val_acc: 0.9745\n",
      "Epoch 29/30\n",
      "60000/60000 [==============================] - 1s 12us/step - loss: 0.1291 - acc: 0.9714 - val_loss: 0.1208 - val_acc: 0.9738\n",
      "Epoch 30/30\n",
      "60000/60000 [==============================] - 1s 12us/step - loss: 0.1289 - acc: 0.9713 - val_loss: 0.1202 - val_acc: 0.9752\n",
      "('Time Cost of Logistic Regression: ', 21.32376980781555)\n",
      "('Accuracy: ', 0.9752)\n"
     ]
    }
   ],
   "source": [
    "start = time.time()\n",
    "model = Sequential() \n",
    "model.add(Dense(1, input_dim=input_dim, activation='sigmoid', kernel_regularizer=regularizers.l1(0.001))) \n",
    "model.compile(optimizer=optimizer, loss='binary_crossentropy', metrics=['accuracy']) \n",
    "history = model.fit(x_train, y_train, batch_size=batch_size, nb_epoch=nb_epoch, verbose=1, validation_data=(x_test, y_test)) \n",
    "pred_test = model.predict(x_test).reshape([-1])>0.5\n",
    "time_cost = time.time() - start\n",
    "\n",
    "print(\"Time Cost of Logistic Regression: \", time_cost)\n",
    "print(\"Accuracy: \", np.mean(pred_test == y_test))"
   ]
  },
  {
   "cell_type": "code",
   "execution_count": 9,
   "metadata": {},
   "outputs": [
    {
     "data": {
      "text/plain": [
       "Text(0,0.5,'Accuracy')"
      ]
     },
     "execution_count": 9,
     "metadata": {},
     "output_type": "execute_result"
    },
    {
     "data": {
      "image/png": "[encoded data removed]",
      "text/plain": [
       "<Figure size 576x360 with 1 Axes>"
      ]
     },
     "metadata": {},
     "output_type": "display_data"
    }
   ],
   "source": [
    "test_acc  = history.history['val_acc']\n",
    "xc        = history.epoch\n",
    "\n",
    "plt.figure(figsize=(8,5))\n",
    "plt.plot(xc, test_acc)\n",
    "plt.legend([\"Validation Set\"],fontsize=24)\n",
    "plt.xlabel(\"Epoch\",fontsize=24)\n",
    "plt.ylabel(\"Accuracy\",fontsize=24)"
   ]
  },
  {
   "cell_type": "markdown",
   "metadata": {},
   "source": [
    "# SKlearn Logistic Regression"
   ]
  },
  {
   "cell_type": "markdown",
   "metadata": {},
   "source": [
    "Without L1 Regularization"
   ]
  },
  {
   "cell_type": "code",
   "execution_count": 10,
   "metadata": {},
   "outputs": [
    {
     "name": "stderr",
     "output_type": "stream",
     "text": [
      "/home/r7user1/anaconda2_local/lib/python2.7/site-packages/sklearn/linear_model/logistic.py:433: FutureWarning: Default solver will be changed to 'lbfgs' in 0.22. Specify a solver to silence this warning.\n",
      "  FutureWarning)\n"
     ]
    },
    {
     "name": "stdout",
     "output_type": "stream",
     "text": [
      "('Time Cost of Logistic Regression: ', 11.690162897109985)\n",
      "('Accuracy: ', 0.9776)\n"
     ]
    }
   ],
   "source": [
    "from sklearn.linear_model import LogisticRegression\n",
    "\n",
    "start = time.time()\n",
    "lr = LogisticRegression(penalty=\"l1\", C = 1000000000000000)\n",
    "lr.fit(x_train, y_train)\n",
    "pred_test = lr.predict(x_test)\n",
    "time_cost = time.time() - start\n",
    "\n",
    "print(\"Time Cost of Logistic Regression: \", time_cost)\n",
    "print(\"Accuracy: \", np.mean(pred_test == y_test))"
   ]
  },
  {
   "cell_type": "markdown",
   "metadata": {},
   "source": [
    "With L1 Regularization"
   ]
  },
  {
   "cell_type": "code",
   "execution_count": 11,
   "metadata": {},
   "outputs": [
    {
     "name": "stdout",
     "output_type": "stream",
     "text": [
      "('Time Cost of Logistic Regression: ', 11.077100038528442)\n",
      "('Accuracy: ', 0.9778)\n"
     ]
    }
   ],
   "source": [
    "from sklearn.linear_model import LogisticRegression\n",
    "\n",
    "start = time.time()\n",
    "lr = LogisticRegression(penalty=\"l1\", C = 1000)\n",
    "lr.fit(x_train, y_train)\n",
    "pred_test = lr.predict(x_test)\n",
    "time_cost = time.time() - start\n",
    "\n",
    "print(\"Time Cost of Logistic Regression: \", time_cost)\n",
    "print(\"Accuracy: \", np.mean(pred_test == y_test))"
   ]
  }
 ],
 "metadata": {
  "kernelspec": {
   "display_name": "Python 2",
   "language": "python",
   "name": "python2"
  },
  "language_info": {
   "codemirror_mode": {
    "name": "ipython",
    "version": 2
   },
   "file_extension": ".py",
   "mimetype": "text/x-python",
   "name": "python",
   "nbconvert_exporter": "python",
   "pygments_lexer": "ipython2",
   "version": "2.7.15"
  }
 },
 "nbformat": 4,
 "nbformat_minor": 2
}
