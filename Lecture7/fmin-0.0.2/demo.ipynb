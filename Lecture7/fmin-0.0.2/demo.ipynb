{
 "cells": [
  {
   "cell_type": "markdown",
   "metadata": {},
   "source": [
    "# Tutorial on Numerical Optimization\n",
    "\n",
    "URL:　https://www.benfrederickson.com/numerical-optimization/"
   ]
  },
  {
   "cell_type": "code",
   "execution_count": 30,
   "metadata": {},
   "outputs": [
    {
     "data": {
      "text/html": [
       "<iframe src='./examples/gradient_descent.html', width=820, height=700></iframe>\n"
      ],
      "text/plain": [
       "<IPython.core.display.HTML object>"
      ]
     },
     "metadata": {},
     "output_type": "display_data"
    }
   ],
   "source": [
    "%%html \n",
    "<iframe src='./examples/gradient_descent.html', width=820, height=700></iframe>"
   ]
  },
  {
   "cell_type": "markdown",
   "metadata": {},
   "source": [
    "## Wolfe Line Search Example\n",
    "\n",
    "This graph attempts to show how a Wolfe Line Search works. The goal here is to move downwards along the gradient so that the loss is reduced sufficiently (controlled by the c1 parameter) and also that the slope of the loss is decreased sufficiently (controlled by the c2 parameter). Making sure the slope decreases sufficiently ensures that we don't take too many short steps, and is usually the more important parameter here.\n",
    "\n",
    "The goal here isn't to exactly find the best point along the line, but to cheaply find a good enough point. The black dots represent points that were calculated as part of doing the line search. Minimizing the total number of samples taken while still converging quickly is the goal here:"
   ]
  },
  {
   "cell_type": "code",
   "execution_count": 16,
   "metadata": {},
   "outputs": [
    {
     "data": {
      "text/html": [
       "<iframe src='./examples/line_search.html', width=880, height=660></iframe>\n"
      ],
      "text/plain": [
       "<IPython.core.display.HTML object>"
      ]
     },
     "metadata": {},
     "output_type": "display_data"
    }
   ],
   "source": [
    "%%html \n",
    "<iframe src='./examples/line_search.html', width=880, height=660></iframe>"
   ]
  },
  {
   "cell_type": "code",
   "execution_count": 2,
   "metadata": {},
   "outputs": [
    {
     "data": {
      "text/html": [
       "<iframe src='./examples/cities.html', width=700, height=600></iframe>\n"
      ],
      "text/plain": [
       "<IPython.core.display.HTML object>"
      ]
     },
     "metadata": {},
     "output_type": "display_data"
    }
   ],
   "source": [
    "%%html \n",
    "<iframe src='./examples/cities.html', width=700, height=600></iframe>"
   ]
  }
 ],
 "metadata": {
  "kernelspec": {
   "display_name": "Python 3",
   "language": "python",
   "name": "python3"
  },
  "language_info": {
   "codemirror_mode": {
    "name": "ipython",
    "version": 3
   },
   "file_extension": ".py",
   "mimetype": "text/x-python",
   "name": "python",
   "nbconvert_exporter": "python",
   "pygments_lexer": "ipython3",
   "version": "3.7.1"
  }
 },
 "nbformat": 4,
 "nbformat_minor": 2
}
