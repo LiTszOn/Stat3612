{
 "cells": [
  {
   "cell_type": "markdown",
   "metadata": {},
   "source": [
    "# STAT3612 Data Mining (2018-19 Semester 2)<a class=\"anchor\" id=\"top\">\n",
    "## Tutorial Class 3 Generalized Linear Models (GLM)\n",
    "### _Prepared by Dr. Gilbert Lui_\n",
    "\n",
    "### Table of Contents:\n",
    "\n",
    "\n",
    "* [Introduction to Genearlized Linear Model](#glm)\n",
    "    * [Explanatory Data Analysis]()\n",
    "    * [Standardization]()"
   ]
  },
  {
   "cell_type": "markdown",
   "metadata": {},
   "source": [
    "<div style=\"text-align: right\"><a href=\"#top\">Back to the top</a></div>"
   ]
  },
  {
   "cell_type": "markdown",
   "metadata": {},
   "source": [
    "## Why Generlized Linear Models (GLMs)?\n",
    "\n",
    "- In classical linear models, target variable Y is explained by a linear combination of input variables $X_1$, $X_2$, ..., $X_k$. In particular,\n",
    "\n",
    "\\begin{align}\n",
    "Y &= \\beta_0 + \\beta_1 X_1 + \\beta_2 X_2 + \\cdots + \\beta_k X_k + \\varepsilon\n",
    "\\end{align}\n",
    "\n",
    "where $\\varepsilon$ denotes the model error which cannot be explained by the linear combination of $X$'s.\n",
    "\n",
    "However, the **target variable Y should be continuous** in this classical linear model. GLMs are considered to extend this classical linear model to handle various types of target variable.\n",
    "\n",
    "## What are GLMs?\n",
    "\n",
    "Basically, GLMs consist of three components:\n",
    "1. Random component $Y$ has a probability distribution in the exponential family.\n",
    "2. Systematic component $\\eta=\\beta_0 + \\beta_1 X_1 + \\beta_2 X_2 + \\cdots + \\beta_k X_k$.\n",
    "3. Link function $g(\\cdot)$ relates both random component and systematic component by\n",
    "\\begin{align}\n",
    "g(\\mu) &= \\eta,\n",
    "\\end{align}\n",
    "where $\\mu=E(Y)$ and $g(\\cdot)$ is a monotonic differentiable function.\n",
    "\n",
    "Simply speaking, in GLM, the transformed mean of $Y$ is explained by the linear combination of $X$'s.\n",
    "\n",
    "## Special cases of GLMs\n",
    "\n",
    "### A. Linear regression\n",
    "Three compnoents of GLM:\n",
    "1. $Y$ is normally distributed.\n",
    "2. $\\eta=\\beta_0 + \\sum_{i=1}^k \\beta_i X_i$.\n",
    "3. $g(\\mu)=\\mu$ where $\\mu=E(Y)$.\n",
    "\n",
    "Based on the above settings,\n",
    "\n",
    "\\begin{align}\n",
    "\\mu = \\beta_0 + \\sum_{i=1} \\beta_i X_i.\n",
    "\\end{align}\n",
    "\n",
    "### B. Logistic regression\n",
    "1. $Y$ is binary (e.g. {0,1}).\n",
    "2. $\\eta=\\beta_0 + \\sum_{i=1}^k \\beta_i X_i$.\n",
    "3. $g(\\mu)=\\log \\left ( \\dfrac{\\mu}{1-\\mu} \\right )$ where $\\mu=E(Y)=P(Y=1)$.\n",
    "\n",
    "Based on the above settings,\n",
    "\\begin{eqnarray*}\n",
    "\\mu &= P(Y=1) &=& \\dfrac{\\exp(\\beta_0 + \\sum_{i=1}^k \\beta_i X_i)}{1+\\exp(\\beta_0 + \\sum_{i=1}^k \\beta_i X_i)}. \\\\\n",
    "\\mbox{ and }1-\\mu &= P(Y=0) &=& \\dfrac{1}{1+\\exp(\\beta_0 + \\sum_{i=1}^k \\beta_i X_i)}. \\\\\n",
    "\\end{eqnarray*}\n",
    "\n",
    "### C. Softmax regression\n",
    "1. $Y=1,2,...,K$ is multinomial.\n",
    "2. $\\eta_j=\\beta_{j0} + \\sum_{i=1}^k \\beta_{ji} X_i$ for $j=1,2,...,K-1$.\n",
    "3. The link functions are $\\log \\dfrac{\\mu_j}{\\mu_K} = \\eta_j$ where $\\mu_j=P(Y=j)$ for $j=1,2,...,K-1$.\n",
    "\n",
    "Based on the above settings,\n",
    "\\begin{eqnarray*}\n",
    "\\mu_j = P(Y=j) &=& \\dfrac{\\exp(\\beta_{j0} + \\sum_{i=1}^k \\beta_{ji} X_i)}{1+\\exp(\\beta_0 + \\sum_{i=1}^k \\beta_{ji} X_i)} \\mbox{ for } j=1,2,...,K-1,\\\\\n",
    "\\mbox{ and } \\mu_K = P(Y=K) &=& \\dfrac{1}{1+\\exp(\\beta_0 + \\sum_{i=1}^k \\beta_{ji} X_i)}\n",
    "\\end{eqnarray*}\n",
    "\n",
    "Note that\n",
    "\\begin{align}\n",
    "\\sum_{j=1}^K \\mu_j = 1.\n",
    "\\end{align}"
   ]
  },
  {
   "cell_type": "markdown",
   "metadata": {},
   "source": [
    "### Example of Linear Regression\n",
    "\n",
    "The dataset of diabetes contains 442 recrods of diabetes patients. In the data file, the first column stores the values of a response variable which is indeed a quantitative measure of disease progression one year after baseline and the remaining columns are the age, sex, body mass index, average blood pressure, and six blood serum measurements. All the observations are stored in the data file diabetes.csv (Note that this file has no header information).\n",
    "\n",
    "As demonstrated in the lecture, the `statsmodels` package can generate the standard errors of parameter estimates and diagnostic statistics more easily. In the following, the `scikit-learn` package will be used for illustration purpose."
   ]
  },
  {
   "cell_type": "code",
   "execution_count": 1,
   "metadata": {},
   "outputs": [
    {
     "name": "stdout",
     "output_type": "stream",
     "text": [
      "     Variable    Estimate        S.E.    t-ratio       p-value\n",
      "0   Intercept  152.144861    2.575719  59.068897  0.000000e+00\n",
      "1         age  -10.023929   59.744502  -0.167780  4.334175e-01\n",
      "2         sex -239.918384   61.235668  -3.917952  5.191171e-05\n",
      "3         bmi  519.615096   66.520897   7.811306  2.176037e-14\n",
      "4          bp  324.530793   65.416914   4.960962  5.056501e-07\n",
      "5          s1 -795.181921  416.385890  -1.909724  2.841619e-02\n",
      "6          s2  478.939415  338.944878   1.413030  7.918427e-02\n",
      "7          s3  102.441665  212.395702   0.482315  3.149135e-01\n",
      "8          s4  177.964285  161.592143   1.101318  1.356865e-01\n",
      "9          s5  752.487514  171.812977   4.379690  7.469098e-06\n",
      "10         s6   67.351445   65.976527   1.020839  1.539516e-01\n",
      "R-Squared = 0.517799740968\n",
      "Adj. R-Squared = 0.506611799923\n",
      "F-Statistics = 46.2819511556\n"
     ]
    }
   ],
   "source": [
    "import pandas as pd\n",
    "import sklearn\n",
    "from sklearn.linear_model import LinearRegression\n",
    "import numpy as np\n",
    "import scipy as sc\n",
    "import scipy.stats\n",
    "\n",
    "diab = pd.read_csv(\"diabetes.csv\", \n",
    "                   header=None, \n",
    "                   names=['target', 'age', 'sex', 'bmi', 'bp', 's1', 's2', 's3', 's4', 's5', 's6'])\n",
    "varlist = list(diab.columns)\n",
    "y = diab[varlist[0]]\n",
    "x = diab[varlist[1:]]\n",
    "\n",
    "lm = LinearRegression()\n",
    "res = lm.fit(x,y)\n",
    "n, k = x.shape\n",
    "# bhat estimate\n",
    "bhat = np.append(lm.intercept_, lm.coef_)\n",
    "yhat = np.matrix(lm.predict(x)).T\n",
    "# change x and y to np.array\n",
    "x = np.hstack((np.ones((n,1)),np.matrix(x)))\n",
    "y = np.matrix(y).T\n",
    "# degree of freedom\n",
    "df = float(n-k-1)\n",
    "# estimated error variance\n",
    "sse = np.sum(np.square(yhat-y),axis=0)\n",
    "sig2 = sse/df\n",
    "bvar = np.squeeze(np.asarray(sig2*sc.linalg.inv(x.T*x).diagonal()))\n",
    "# standard error of bhat\n",
    "bse = np.sqrt(bvar)\n",
    "# t-statistics of bhat\n",
    "bTstat = np.zeros(len(bse))\n",
    "for i in range(len(bse)):\n",
    "    bTstat[i] = bhat[i]/bse[i]\n",
    "# p-value of bhat\n",
    "bPVal = 1 - scipy.stats.t.cdf(abs(bTstat),df)\n",
    "\n",
    "vlist = ['Intercept']\n",
    "for i in varlist[1:]:\n",
    "    vlist.append(i)\n",
    "dfout = pd.DataFrame({'Variable': vlist,\n",
    "                      'Estimate': bhat,\n",
    "                      'S.E.': bse,\n",
    "                      't-ratio': bTstat,\n",
    "                      'p-value': bPVal})\n",
    "new_order = [2,0,1,4,3]\n",
    "dfout = dfout[dfout.columns[new_order]]\n",
    "# show the estimation result of regression coefficients\n",
    "print(dfout)\n",
    "rsq = sklearn.metrics.r2_score(y, yhat)\n",
    "adjrsq = 1-(1-rsq)*(n-1)/df\n",
    "fstat = rsq / (1-rsq) * df / k\n",
    "print(\"R-Squared =\", rsq)\n",
    "print(\"Adj. R-Squared =\", adjrsq)\n",
    "print(\"F-Statistics =\", fstat)"
   ]
  },
  {
   "cell_type": "markdown",
   "metadata": {},
   "source": [
    "### Model diagnostics"
   ]
  },
  {
   "cell_type": "code",
   "execution_count": 2,
   "metadata": {},
   "outputs": [
    {
     "data": {
      "text/plain": [
       "<matplotlib.text.Text at 0xd2814e0>"
      ]
     },
     "execution_count": 2,
     "metadata": {},
     "output_type": "execute_result"
    },
    {
     "data": {
      "image/png": "[encoded data removed]",
      "text/plain": [
       "<matplotlib.figure.Figure at 0x6135550>"
      ]
     },
     "metadata": {
      "needs_background": "light"
     },
     "output_type": "display_data"
    }
   ],
   "source": [
    "import matplotlib.pyplot as plt\n",
    "%matplotlib inline\n",
    "\n",
    "res = np.squeeze(np.asarray(y)) - np.squeeze(np.asarray(yhat))\n",
    "yplot = np.squeeze(np.asarray(yhat))\n",
    "plt.figure(figsize=(10, 8))\n",
    "plt.scatter(yplot, res)\n",
    "plt.plot(plt.xlim(), [0,0], linestyle='dashed')\n",
    "plt.xlabel('Fitted', fontsize=12)\n",
    "plt.ylabel('Residuals', fontsize=12)\n",
    "plt.title('Residual Plot',fontsize=15, fontweight=\"bold\")"
   ]
  },
  {
   "cell_type": "code",
   "execution_count": 3,
   "metadata": {
    "scrolled": false
   },
   "outputs": [
    {
     "data": {
      "image/png": "[encoded data removed]",
      "text/plain": [
       "<matplotlib.figure.Figure at 0x6123be0>"
      ]
     },
     "metadata": {
      "needs_background": "light"
     },
     "output_type": "display_data"
    }
   ],
   "source": [
    "plt.figure(figsize=(10, 8))\n",
    "plt.hist(res, bins=20, edgecolor='k', alpha=0.8)\n",
    "plt.title('Histogram of Residuals',fontsize=15, fontweight=\"bold\")\n",
    "plt.grid(True)"
   ]
  },
  {
   "cell_type": "code",
   "execution_count": 4,
   "metadata": {
    "scrolled": false
   },
   "outputs": [
    {
     "data": {
      "text/plain": [
       "<matplotlib.text.Text at 0xd42dba8>"
      ]
     },
     "execution_count": 4,
     "metadata": {},
     "output_type": "execute_result"
    },
    {
     "data": {
      "image/png": "[encoded data removed]",
      "text/plain": [
       "<matplotlib.figure.Figure at 0xd28b3c8>"
      ]
     },
     "metadata": {
      "needs_background": "light"
     },
     "output_type": "display_data"
    }
   ],
   "source": [
    "# compute leverage for outlier observations\n",
    "Hmat = x @ sc.linalg.inv(x.T*x) @ x.T\n",
    "leverage = np.squeeze(np.asarray(Hmat.diagonal()))\n",
    "mse = sklearn.metrics.mean_squared_error(y, yhat)\n",
    "cookD = np.squeeze(np.asarray(np.square(y-yhat)))/((k+1)*mse)*leverage/(1-np.square(leverage))\n",
    "rstudent = np.squeeze(np.asarray(y-yhat))/np.sqrt(sig2*(1-leverage))\n",
    "\n",
    "plt.figure(figsize=(10, 8))\n",
    "plt.scatter(leverage, rstudent)\n",
    "plt.xlabel('Leverage', fontsize=12)\n",
    "plt.ylabel('Studentized Residuals', fontsize=12)\n",
    "plt.title('Influence Plot',fontsize=15, fontweight=\"bold\")"
   ]
  },
  {
   "cell_type": "markdown",
   "metadata": {},
   "source": [
    "### Detect Collinearity"
   ]
  },
  {
   "cell_type": "code",
   "execution_count": 5,
   "metadata": {
    "scrolled": true
   },
   "outputs": [
    {
     "data": {
      "text/html": [
       "<div>\n",
       "<style scoped>\n",
       "    .dataframe tbody tr th:only-of-type {\n",
       "        vertical-align: middle;\n",
       "    }\n",
       "\n",
       "    .dataframe tbody tr th {\n",
       "        vertical-align: top;\n",
       "    }\n",
       "\n",
       "    .dataframe thead th {\n",
       "        text-align: right;\n",
       "    }\n",
       "</style>\n",
       "<table border=\"1\" class=\"dataframe\">\n",
       "  <thead>\n",
       "    <tr style=\"text-align: right;\">\n",
       "      <th></th>\n",
       "      <th>age</th>\n",
       "      <th>sex</th>\n",
       "      <th>bmi</th>\n",
       "      <th>bp</th>\n",
       "      <th>s1</th>\n",
       "      <th>s2</th>\n",
       "      <th>s3</th>\n",
       "      <th>s4</th>\n",
       "      <th>s5</th>\n",
       "      <th>s6</th>\n",
       "    </tr>\n",
       "  </thead>\n",
       "  <tbody>\n",
       "    <tr>\n",
       "      <th>age</th>\n",
       "      <td>1.000000</td>\n",
       "      <td>0.173705</td>\n",
       "      <td>0.185129</td>\n",
       "      <td>0.335340</td>\n",
       "      <td>0.259963</td>\n",
       "      <td>0.219223</td>\n",
       "      <td>-0.075238</td>\n",
       "      <td>0.203958</td>\n",
       "      <td>0.270790</td>\n",
       "      <td>0.301877</td>\n",
       "    </tr>\n",
       "    <tr>\n",
       "      <th>sex</th>\n",
       "      <td>0.173705</td>\n",
       "      <td>1.000000</td>\n",
       "      <td>0.088065</td>\n",
       "      <td>0.240991</td>\n",
       "      <td>0.035238</td>\n",
       "      <td>0.142650</td>\n",
       "      <td>-0.379108</td>\n",
       "      <td>0.332159</td>\n",
       "      <td>0.149896</td>\n",
       "      <td>0.208093</td>\n",
       "    </tr>\n",
       "    <tr>\n",
       "      <th>bmi</th>\n",
       "      <td>0.185129</td>\n",
       "      <td>0.088065</td>\n",
       "      <td>1.000000</td>\n",
       "      <td>0.395364</td>\n",
       "      <td>0.249733</td>\n",
       "      <td>0.261150</td>\n",
       "      <td>-0.366709</td>\n",
       "      <td>0.413754</td>\n",
       "      <td>0.446157</td>\n",
       "      <td>0.388626</td>\n",
       "    </tr>\n",
       "    <tr>\n",
       "      <th>bp</th>\n",
       "      <td>0.335340</td>\n",
       "      <td>0.240991</td>\n",
       "      <td>0.395364</td>\n",
       "      <td>1.000000</td>\n",
       "      <td>0.242347</td>\n",
       "      <td>0.185457</td>\n",
       "      <td>-0.178793</td>\n",
       "      <td>0.257551</td>\n",
       "      <td>0.393465</td>\n",
       "      <td>0.390566</td>\n",
       "    </tr>\n",
       "    <tr>\n",
       "      <th>s1</th>\n",
       "      <td>0.259963</td>\n",
       "      <td>0.035238</td>\n",
       "      <td>0.249733</td>\n",
       "      <td>0.242347</td>\n",
       "      <td>1.000000</td>\n",
       "      <td>0.896742</td>\n",
       "      <td>0.051404</td>\n",
       "      <td>0.542271</td>\n",
       "      <td>0.515459</td>\n",
       "      <td>0.325643</td>\n",
       "    </tr>\n",
       "    <tr>\n",
       "      <th>s2</th>\n",
       "      <td>0.219223</td>\n",
       "      <td>0.142650</td>\n",
       "      <td>0.261150</td>\n",
       "      <td>0.185457</td>\n",
       "      <td>0.896742</td>\n",
       "      <td>1.000000</td>\n",
       "      <td>-0.196489</td>\n",
       "      <td>0.659900</td>\n",
       "      <td>0.318450</td>\n",
       "      <td>0.290463</td>\n",
       "    </tr>\n",
       "    <tr>\n",
       "      <th>s3</th>\n",
       "      <td>-0.075238</td>\n",
       "      <td>-0.379108</td>\n",
       "      <td>-0.366709</td>\n",
       "      <td>-0.178793</td>\n",
       "      <td>0.051404</td>\n",
       "      <td>-0.196489</td>\n",
       "      <td>1.000000</td>\n",
       "      <td>-0.738593</td>\n",
       "      <td>-0.398632</td>\n",
       "      <td>-0.273650</td>\n",
       "    </tr>\n",
       "    <tr>\n",
       "      <th>s4</th>\n",
       "      <td>0.203958</td>\n",
       "      <td>0.332159</td>\n",
       "      <td>0.413754</td>\n",
       "      <td>0.257551</td>\n",
       "      <td>0.542271</td>\n",
       "      <td>0.659900</td>\n",
       "      <td>-0.738593</td>\n",
       "      <td>1.000000</td>\n",
       "      <td>0.617953</td>\n",
       "      <td>0.417135</td>\n",
       "    </tr>\n",
       "    <tr>\n",
       "      <th>s5</th>\n",
       "      <td>0.270790</td>\n",
       "      <td>0.149896</td>\n",
       "      <td>0.446157</td>\n",
       "      <td>0.393465</td>\n",
       "      <td>0.515459</td>\n",
       "      <td>0.318450</td>\n",
       "      <td>-0.398632</td>\n",
       "      <td>0.617953</td>\n",
       "      <td>1.000000</td>\n",
       "      <td>0.464778</td>\n",
       "    </tr>\n",
       "    <tr>\n",
       "      <th>s6</th>\n",
       "      <td>0.301877</td>\n",
       "      <td>0.208093</td>\n",
       "      <td>0.388626</td>\n",
       "      <td>0.390566</td>\n",
       "      <td>0.325643</td>\n",
       "      <td>0.290463</td>\n",
       "      <td>-0.273650</td>\n",
       "      <td>0.417135</td>\n",
       "      <td>0.464778</td>\n",
       "      <td>1.000000</td>\n",
       "    </tr>\n",
       "  </tbody>\n",
       "</table>\n",
       "</div>"
      ],
      "text/plain": [
       "          age       sex       bmi        bp        s1        s2        s3  \\\n",
       "age  1.000000  0.173705  0.185129  0.335340  0.259963  0.219223 -0.075238   \n",
       "sex  0.173705  1.000000  0.088065  0.240991  0.035238  0.142650 -0.379108   \n",
       "bmi  0.185129  0.088065  1.000000  0.395364  0.249733  0.261150 -0.366709   \n",
       "bp   0.335340  0.240991  0.395364  1.000000  0.242347  0.185457 -0.178793   \n",
       "s1   0.259963  0.035238  0.249733  0.242347  1.000000  0.896742  0.051404   \n",
       "s2   0.219223  0.142650  0.261150  0.185457  0.896742  1.000000 -0.196489   \n",
       "s3  -0.075238 -0.379108 -0.366709 -0.178793  0.051404 -0.196489  1.000000   \n",
       "s4   0.203958  0.332159  0.413754  0.257551  0.542271  0.659900 -0.738593   \n",
       "s5   0.270790  0.149896  0.446157  0.393465  0.515459  0.318450 -0.398632   \n",
       "s6   0.301877  0.208093  0.388626  0.390566  0.325643  0.290463 -0.273650   \n",
       "\n",
       "           s4        s5        s6  \n",
       "age  0.203958  0.270790  0.301877  \n",
       "sex  0.332159  0.149896  0.208093  \n",
       "bmi  0.413754  0.446157  0.388626  \n",
       "bp   0.257551  0.393465  0.390566  \n",
       "s1   0.542271  0.515459  0.325643  \n",
       "s2   0.659900  0.318450  0.290463  \n",
       "s3  -0.738593 -0.398632 -0.273650  \n",
       "s4   1.000000  0.617953  0.417135  \n",
       "s5   0.617953  1.000000  0.464778  \n",
       "s6   0.417135  0.464778  1.000000  "
      ]
     },
     "execution_count": 5,
     "metadata": {},
     "output_type": "execute_result"
    }
   ],
   "source": [
    "diab[varlist[1:]].corr()"
   ]
  },
  {
   "cell_type": "code",
   "execution_count": 6,
   "metadata": {},
   "outputs": [
    {
     "data": {
      "text/plain": [
       "array([  1.22,   1.28,   1.51,   1.46,  59.14,  39.17,  15.38,   8.9 ,\n",
       "        10.06,   1.48])"
      ]
     },
     "execution_count": 6,
     "metadata": {},
     "output_type": "execute_result"
    }
   ],
   "source": [
    "# compute VIF\n",
    "vif_reg = LinearRegression()\n",
    "vif = np.zeros(k)\n",
    "for i in range(1,x.shape[1]):\n",
    "    vif_x = np.delete(x,[0,i],axis=1)\n",
    "    vif_y = x[:,i]\n",
    "    vif_reg.fit(vif_x, vif_y)\n",
    "    xhat = np.matrix(vif_reg.predict(vif_x))\n",
    "    vif_rsq = sklearn.metrics.r2_score(vif_y, xhat)\n",
    "    vif[i-1] = 1/(1-vif_rsq)\n",
    "np.round(vif,2)"
   ]
  },
  {
   "cell_type": "markdown",
   "metadata": {},
   "source": [
    "### Example of Logistic Regression Model\n",
    "\n",
    "Consider a glass identificaiton data set in UCI Machine Learning Repository. In this data set, there are 214 observations and the glasses are classified into 7 categories. The types of glasses are described as follows:\n",
    "\n",
    "1. building_windows_float_processed\n",
    "2. building_windows_non_float_processed\n",
    "3. vehicle_windows_float_processed\n",
    "4. vehicle_windows_non_float_processed (none in this database)\n",
    "5. containers\n",
    "6. tableware\n",
    "7. headlamps\n",
    "\n",
    "Also, the glasses are identified by 10 input variables:\n",
    "\n",
    "1.  Id number: 1 to 214\n",
    "2.  RI: refractive index\n",
    "3.  Na: Sodium (unit measurement: weight percent in the corresponding oxide, as attributes 4-10)\n",
    "4.  Mg: Magnesium\n",
    "5.  Al: Aluminum\n",
    "6.  Si: Silicon\n",
    "7.  K: Potassium\n",
    "8.  Ca: Calcium\n",
    "9.  Ba: Barium\n",
    "10. Fe: Iron\n",
    "\n",
    "Now, to demonstrate the logistic regression model, we focus on the classification of building windows. Then, we are required to construct a new target variable `ynew`. As demonstrated in a lecture example, the package `statsmodels` is more suitable for statistical inference and model building while `scikit-learn` is more capable of prediction and classification. Also, in previous example of linear regression, more codes are necessary to produce the results. Therefore, the choice of packages depends on the objective of projects."
   ]
  },
  {
   "cell_type": "code",
   "execution_count": 7,
   "metadata": {},
   "outputs": [],
   "source": [
    "import pandas as pd\n",
    "import sklearn\n",
    "from sklearn.linear_model import LogisticRegression\n",
    "from sklearn.metrics import accuracy_score\n",
    "import numpy as np\n",
    "\n",
    "glass = pd.read_csv(\"glass.data.csv\", \n",
    "                    header=None,\n",
    "                    names=[\"Id\", \"RI\", \"Na\", \"Mg\", \"Al\", \"Si\", \"K\", \"Ca\", \"Ba\", \"Fe\", \"glass-type\"])\n",
    "glass = glass.drop(\"Id\", axis=1)\n",
    "varlist = list(glass.columns)\n",
    "y = glass.iloc[:,len(varlist)-1]\n",
    "x = glass.iloc[:,:len(varlist)-1]\n",
    "ynew = (y == 1).astype(np.int) + (y == 2).astype(np.int)"
   ]
  },
  {
   "cell_type": "code",
   "execution_count": 8,
   "metadata": {},
   "outputs": [
    {
     "name": "stdout",
     "output_type": "stream",
     "text": [
      "Coefficients : [ 0.0065] [[ 0.0179 -0.7     1.1356 -0.5823  0.0592  0.1215  0.4009 -0.2348  0.4658]]\n",
      "Accuracy = 0.859813084112\n"
     ]
    }
   ],
   "source": [
    "log_reg = LogisticRegression()\n",
    "log_res = log_reg.fit(x, ynew)\n",
    "y_pred = log_reg.predict(x)\n",
    "accuracy = accuracy_score(ynew, y_pred)\n",
    "print(\"Coefficients :\", np.round(log_reg.intercept_,4), np.round(log_reg.coef_,4))\n",
    "print(\"Accuracy =\",accuracy)"
   ]
  },
  {
   "cell_type": "code",
   "execution_count": 9,
   "metadata": {},
   "outputs": [
    {
     "name": "stdout",
     "output_type": "stream",
     "text": [
      "Area under ROC = 0.841861402095\n"
     ]
    },
    {
     "data": {
      "text/plain": [
       "<matplotlib.text.Text at 0xd329a20>"
      ]
     },
     "execution_count": 9,
     "metadata": {},
     "output_type": "execute_result"
    },
    {
     "data": {
      "image/png": "[encoded data removed]",
      "text/plain": [
       "<matplotlib.figure.Figure at 0xd26b358>"
      ]
     },
     "metadata": {
      "needs_background": "light"
     },
     "output_type": "display_data"
    }
   ],
   "source": [
    "import matplotlib.pyplot as plt\n",
    "%matplotlib inline\n",
    "\n",
    "from sklearn.metrics import roc_curve, auc\n",
    "\n",
    "probs = log_reg.predict_proba(x)\n",
    "fpr, tpr, thresholds = roc_curve(ynew, probs[:, 1])\n",
    "roc_auc = auc(fpr, tpr)\n",
    "print(\"Area under ROC =\", roc_auc)\n",
    "\n",
    "plt.figure(figsize=(10, 8))\n",
    "plt.plot(fpr, tpr, linewidth=2)\n",
    "plt.plot([0,1],[0,1],'k--')\n",
    "plt.axis([0,1,0,1])\n",
    "plt.xlabel('False Positive Rate')\n",
    "plt.ylabel('True Positive Rate')"
   ]
  },
  {
   "cell_type": "code",
   "execution_count": 10,
   "metadata": {},
   "outputs": [
    {
     "name": "stdout",
     "output_type": "stream",
     "text": [
      "Optimization terminated successfully.\n",
      "         Current function value: 0.365812\n",
      "         Iterations 9\n",
      "                           Logit Regression Results                           \n",
      "==============================================================================\n",
      "Dep. Variable:             glass-type   No. Observations:                  214\n",
      "Model:                          Logit   Df Residuals:                      204\n",
      "Method:                           MLE   Df Model:                            9\n",
      "Date:                Sun, 17 Mar 2019   Pseudo R-squ.:                  0.4149\n",
      "Time:                        08:11:00   Log-Likelihood:                -78.284\n",
      "converged:                       True   LL-Null:                       -133.79\n",
      "                                        LLR p-value:                 9.183e-20\n",
      "==============================================================================\n",
      "                 coef    std err          z      P>|z|      [0.025      0.975]\n",
      "------------------------------------------------------------------------------\n",
      "const       -346.8934    380.361     -0.912      0.362   -1092.388     398.601\n",
      "RI           324.4934    225.771      1.437      0.151    -118.010     766.997\n",
      "Na            -2.3333      2.198     -1.061      0.289      -6.642       1.975\n",
      "Mg            -0.6809      2.278     -0.299      0.765      -5.145       3.783\n",
      "Al            -2.2341      2.383     -0.937      0.349      -6.905       2.437\n",
      "Si            -1.2509      2.220     -0.563      0.573      -5.602       3.100\n",
      "K             -1.5201      2.302     -0.660      0.509      -6.032       2.992\n",
      "Ca            -1.8661      2.362     -0.790      0.429      -6.495       2.762\n",
      "Ba            -2.3726      2.339     -1.014      0.310      -6.957       2.212\n",
      "Fe             1.7372      2.453      0.708      0.479      -3.070       6.544\n",
      "==============================================================================\n"
     ]
    }
   ],
   "source": [
    "import statsmodels.api as sm\n",
    "\n",
    "xnew = sm.add_constant(x)\n",
    "log_reg = sm.Logit(ynew,xnew).fit()\n",
    "print(log_reg.summary())"
   ]
  },
  {
   "cell_type": "code",
   "execution_count": 11,
   "metadata": {},
   "outputs": [
    {
     "ename": "ValueError",
     "evalue": "shapes (214,9) and (10,) not aligned: 9 (dim 1) != 10 (dim 0)",
     "output_type": "error",
     "traceback": [
      "\u001b[1;31m---------------------------------------------------------------------------\u001b[0m",
      "\u001b[1;31mValueError\u001b[0m                                Traceback (most recent call last)",
      "\u001b[1;32m<ipython-input-11-a60de2c0815a>\u001b[0m in \u001b[0;36m<module>\u001b[1;34m()\u001b[0m\n\u001b[0;32m      2\u001b[0m \u001b[0mlogreg\u001b[0m \u001b[1;33m=\u001b[0m \u001b[0mLogisticRegression\u001b[0m\u001b[1;33m(\u001b[0m\u001b[0mC\u001b[0m\u001b[1;33m=\u001b[0m\u001b[1;36m1e8\u001b[0m\u001b[1;33m)\u001b[0m\u001b[1;33m\u001b[0m\u001b[0m\n\u001b[0;32m      3\u001b[0m \u001b[0mlogreg\u001b[0m\u001b[1;33m.\u001b[0m\u001b[0mfit\u001b[0m\u001b[1;33m(\u001b[0m\u001b[0mx\u001b[0m\u001b[1;33m,\u001b[0m \u001b[0mynew\u001b[0m\u001b[1;33m)\u001b[0m\u001b[1;33m\u001b[0m\u001b[0m\n\u001b[1;32m----> 4\u001b[1;33m \u001b[0my_pred\u001b[0m \u001b[1;33m=\u001b[0m \u001b[0mlog_reg\u001b[0m\u001b[1;33m.\u001b[0m\u001b[0mpredict\u001b[0m\u001b[1;33m(\u001b[0m\u001b[0mx\u001b[0m\u001b[1;33m)\u001b[0m\u001b[1;33m\u001b[0m\u001b[0m\n\u001b[0m\u001b[0;32m      5\u001b[0m \u001b[0maccuracy\u001b[0m \u001b[1;33m=\u001b[0m \u001b[0maccuracy_score\u001b[0m\u001b[1;33m(\u001b[0m\u001b[0mynew\u001b[0m\u001b[1;33m,\u001b[0m \u001b[0my_pred\u001b[0m\u001b[1;33m)\u001b[0m\u001b[1;33m\u001b[0m\u001b[0m\n\u001b[0;32m      6\u001b[0m \u001b[0mprint\u001b[0m\u001b[1;33m(\u001b[0m\u001b[1;34m\"Coefficients :\"\u001b[0m\u001b[1;33m,\u001b[0m \u001b[0mnp\u001b[0m\u001b[1;33m.\u001b[0m\u001b[0mround\u001b[0m\u001b[1;33m(\u001b[0m\u001b[0mlogreg\u001b[0m\u001b[1;33m.\u001b[0m\u001b[0mintercept_\u001b[0m\u001b[1;33m,\u001b[0m\u001b[1;36m4\u001b[0m\u001b[1;33m)\u001b[0m\u001b[1;33m,\u001b[0m \u001b[0mnp\u001b[0m\u001b[1;33m.\u001b[0m\u001b[0mround\u001b[0m\u001b[1;33m(\u001b[0m\u001b[0mlogreg\u001b[0m\u001b[1;33m.\u001b[0m\u001b[0mcoef_\u001b[0m\u001b[1;33m,\u001b[0m\u001b[1;36m4\u001b[0m\u001b[1;33m)\u001b[0m\u001b[1;33m)\u001b[0m\u001b[1;33m\u001b[0m\u001b[0m\n",
      "\u001b[1;32mD:\\anaconda3\\lib\\site-packages\\statsmodels\\base\\model.py\u001b[0m in \u001b[0;36mpredict\u001b[1;34m(self, exog, transform, *args, **kwargs)\u001b[0m\n\u001b[0;32m    852\u001b[0m \u001b[1;33m\u001b[0m\u001b[0m\n\u001b[0;32m    853\u001b[0m         predict_results = self.model.predict(self.params, exog, *args,\n\u001b[1;32m--> 854\u001b[1;33m                                              **kwargs)\n\u001b[0m\u001b[0;32m    855\u001b[0m \u001b[1;33m\u001b[0m\u001b[0m\n\u001b[0;32m    856\u001b[0m         if exog_index is not None and not hasattr(predict_results,\n",
      "\u001b[1;32mD:\\anaconda3\\lib\\site-packages\\statsmodels\\discrete\\discrete_model.py\u001b[0m in \u001b[0;36mpredict\u001b[1;34m(self, params, exog, linear)\u001b[0m\n\u001b[0;32m    445\u001b[0m             \u001b[0mexog\u001b[0m \u001b[1;33m=\u001b[0m \u001b[0mself\u001b[0m\u001b[1;33m.\u001b[0m\u001b[0mexog\u001b[0m\u001b[1;33m\u001b[0m\u001b[0m\n\u001b[0;32m    446\u001b[0m         \u001b[1;32mif\u001b[0m \u001b[1;32mnot\u001b[0m \u001b[0mlinear\u001b[0m\u001b[1;33m:\u001b[0m\u001b[1;33m\u001b[0m\u001b[0m\n\u001b[1;32m--> 447\u001b[1;33m             \u001b[1;32mreturn\u001b[0m \u001b[0mself\u001b[0m\u001b[1;33m.\u001b[0m\u001b[0mcdf\u001b[0m\u001b[1;33m(\u001b[0m\u001b[0mnp\u001b[0m\u001b[1;33m.\u001b[0m\u001b[0mdot\u001b[0m\u001b[1;33m(\u001b[0m\u001b[0mexog\u001b[0m\u001b[1;33m,\u001b[0m \u001b[0mparams\u001b[0m\u001b[1;33m)\u001b[0m\u001b[1;33m)\u001b[0m\u001b[1;33m\u001b[0m\u001b[0m\n\u001b[0m\u001b[0;32m    448\u001b[0m         \u001b[1;32melse\u001b[0m\u001b[1;33m:\u001b[0m\u001b[1;33m\u001b[0m\u001b[0m\n\u001b[0;32m    449\u001b[0m             \u001b[1;32mreturn\u001b[0m \u001b[0mnp\u001b[0m\u001b[1;33m.\u001b[0m\u001b[0mdot\u001b[0m\u001b[1;33m(\u001b[0m\u001b[0mexog\u001b[0m\u001b[1;33m,\u001b[0m \u001b[0mparams\u001b[0m\u001b[1;33m)\u001b[0m\u001b[1;33m\u001b[0m\u001b[0m\n",
      "\u001b[1;31mValueError\u001b[0m: shapes (214,9) and (10,) not aligned: 9 (dim 1) != 10 (dim 0)"
     ]
    }
   ],
   "source": [
    "from sklearn.linear_model import LogisticRegression\n",
    "logreg = LogisticRegression(C=1e8)\n",
    "logreg.fit(x, ynew)\n",
    "y_pred = log_reg.predict(x)\n",
    "accuracy = accuracy_score(ynew, y_pred)\n",
    "print(\"Coefficients :\", np.round(logreg.intercept_,4), np.round(logreg.coef_,4))\n",
    "print(\"Accuracy =\",accuracy)"
   ]
  },
  {
   "cell_type": "markdown",
   "metadata": {},
   "source": [
    "### Example of Softmax Regression Model\n",
    "\n",
    "To illustrate the softmax regression, the same dataset as in the logistic regression is considered. But, we will consider the classification of 7 types of glasses."
   ]
  },
  {
   "cell_type": "code",
   "execution_count": 12,
   "metadata": {},
   "outputs": [
    {
     "name": "stdout",
     "output_type": "stream",
     "text": [
      "Coefficients : [-0.0138  0.0249  0.0093  0.0101 -0.0253 -0.0051] [[-0.0153 -1.4516  2.8754 -2.1703  0.0873 -0.4716  0.9905 -0.6111 -0.1292]\n",
      " [ 0.0402 -0.5357  0.5447  0.67    0.0287  0.4808  0.5173 -0.0984  0.3842]\n",
      " [ 0.0125  0.2257  1.6607 -0.8521 -0.1648 -0.4391  0.6614 -0.3247  0.0055]\n",
      " [ 0.0119 -0.729  -1.3767  1.6224  0.1686  1.5347 -0.2316 -0.0651 -0.0274]\n",
      " [-0.0426  1.7977 -1.4447 -0.2969 -0.1871 -1.0046 -0.7316 -0.5028 -0.1338]\n",
      " [-0.0068  0.6929 -2.2594  1.027   0.0672 -0.1002 -1.206   1.6021 -0.0992]]\n",
      "Accuracy = 0.654205607477\n"
     ]
    }
   ],
   "source": [
    "import pandas as pd\n",
    "import sklearn\n",
    "from sklearn.linear_model import LogisticRegression\n",
    "from sklearn.metrics import accuracy_score\n",
    "import numpy as np\n",
    "\n",
    "glass = pd.read_csv(\"glass.data.csv\", \n",
    "                    header=None,\n",
    "                    names=[\"Id\", \"RI\", \"Na\", \"Mg\", \"Al\", \"Si\", \"K\", \"Ca\", \"Ba\", \"Fe\", \"glass-type\"])\n",
    "glass = glass.drop(\"Id\", axis=1)\n",
    "varlist = list(glass.columns)\n",
    "y = glass.iloc[:,len(varlist)-1]\n",
    "x = glass.iloc[:,:len(varlist)-1]\n",
    "\n",
    "softmaxreg = LogisticRegression(multi_class=\"multinomial\", solver=\"lbfgs\", C=1e10)\n",
    "soft_reg = softmaxreg.fit(x, y)\n",
    "y_pred = soft_reg.predict(x)\n",
    "accuracy = accuracy_score(y, y_pred)\n",
    "print(\"Coefficients :\", np.round(soft_reg.intercept_,4), np.round(soft_reg.coef_,4))\n",
    "print(\"Accuracy =\",accuracy)"
   ]
  }
 ],
 "metadata": {
  "kernelspec": {
   "display_name": "Python 3",
   "language": "python",
   "name": "python3"
  },
  "language_info": {
   "codemirror_mode": {
    "name": "ipython",
    "version": 3
   },
   "file_extension": ".py",
   "mimetype": "text/x-python",
   "name": "python",
   "nbconvert_exporter": "python",
   "pygments_lexer": "ipython3",
   "version": "3.6.4"
  }
 },
 "nbformat": 4,
 "nbformat_minor": 2
}
