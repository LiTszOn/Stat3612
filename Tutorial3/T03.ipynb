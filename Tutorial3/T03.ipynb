{
 "cells": [
  {
   "cell_type": "markdown",
   "metadata": {},
   "source": [
    "# STAT3612 Data Mining (2018-19 Semester 2)<a class=\"anchor\" id=\"top\">\n",
    "## Tutorial Class 3 Generalized Linear Models (GLM)\n",
    "### _Prepared by Dr. Gilbert Lui_\n",
    "\n",
    "### Table of Contents:\n",
    "\n",
    "\n",
    "* [Introduction to Genearlized Linear Model](#glm)\n",
    "    * [Explanatory Data Analysis]()\n",
    "    * [Standardization]()"
   ]
  },
  {
   "cell_type": "markdown",
   "metadata": {},
   "source": [
    "<div style=\"text-align: right\"><a href=\"#top\">Back to the top</a></div>"
   ]
  },
  {
   "cell_type": "markdown",
   "metadata": {},
   "source": [
    "## Why Generalized Linear Models (GLMs)?\n",
    "\n",
    "- In classical linear models, target variable Y is explained by a linear combination of input variables $X_1$, $X_2$, ..., $X_k$. In particular,\n",
    "\n",
    "\\begin{align}\n",
    "Y &= \\beta_0 + \\beta_1 X_1 + \\beta_2 X_2 + \\cdots + \\beta_k X_k + \\varepsilon\n",
    "\\end{align}\n",
    "\n",
    "where $\\varepsilon$ denotes the model error which cannot be explained by the linear combination of $X$'s.\n",
    "\n",
    "However, the **target variable Y should be continuous** in this classical linear model. GLMs are considered to extend this classical linear model to handle various types of target variable.\n",
    "\n",
    "<div style=\"text-align: right\"><a href=\"#top\">Back to the top</a></div>\n",
    "\n",
    "## What are GLMs?\n",
    "\n",
    "Basically, GLMs consist of three components:\n",
    "1. Random component $Y$ has a probability distribution in the exponential family.\n",
    "2. Systematic component $\\eta=\\beta_0 + \\beta_1 X_1 + \\beta_2 X_2 + \\cdots + \\beta_k X_k$.\n",
    "3. Link function $g(\\cdot)$ relates both random component and systematic component by\n",
    "\\begin{align}\n",
    "g(\\mu) &= \\eta,\n",
    "\\end{align}\n",
    "where $\\mu=E(Y)$ and $g(\\cdot)$ is a monotonic differentiable function.\n",
    "\n",
    "Simply speaking, in GLM, the transformed mean of $Y$ is explained by the linear combination of $X$'s.\n",
    "\n",
    "<div style=\"text-align: right\"><a href=\"#top\">Back to the top</a></div>\n",
    "\n",
    "## Special cases of GLMs\n",
    "\n",
    "### A. Linear regression\n",
    "Three compnoents of GLM:\n",
    "1. $Y$ is normally distributed.\n",
    "2. $\\eta=\\beta_0 + \\sum_{i=1}^k \\beta_i X_i$.\n",
    "3. $g(\\mu)=\\mu$ where $\\mu=E(Y)$.\n",
    "\n",
    "Based on the above settings,\n",
    "\n",
    "\\begin{align}\n",
    "\\mu = \\beta_0 + \\sum_{i=1}^k \\beta_i X_i.\n",
    "\\end{align}\n",
    "\n",
    "<div style=\"text-align: right\"><a href=\"#top\">Back to the top</a></div>\n",
    "\n",
    "### B. Logistic regression\n",
    "1. $Y$ is binary (e.g. {0,1}).\n",
    "2. $\\eta=\\beta_0 + \\sum_{i=1}^k \\beta_i X_i$.\n",
    "3. $g(\\mu)=\\log \\left ( \\dfrac{\\mu}{1-\\mu} \\right )$ where $\\mu=E(Y)=P(Y=1)$.\n",
    "\n",
    "Based on the above settings,\n",
    "\\begin{eqnarray*}\n",
    "\\mu &= P(Y=1) &=& \\dfrac{\\exp(\\beta_0 + \\sum_{i=1}^k \\beta_i X_i)}{1+\\exp(\\beta_0 + \\sum_{i=1}^k \\beta_i X_i)}. \\\\\n",
    "\\mbox{ and }1-\\mu &= P(Y=0) &=& \\dfrac{1}{1+\\exp(\\beta_0 + \\sum_{i=1}^k \\beta_i X_i)}. \\\\\n",
    "\\end{eqnarray*}\n",
    "\n",
    "<div style=\"text-align: right\"><a href=\"#top\">Back to the top</a></div>\n",
    "\n",
    "### C. Softmax regression\n",
    "1. $Y=1,2,...,K$ is multinomial.\n",
    "2. $\\eta_j=\\beta_{j0} + \\sum_{i=1}^k \\beta_{ji} X_i$ for $j=1,2,...,K$.\n",
    "3. The link functions are $\\log \\dfrac{\\mu_j}{C} = \\eta_j$, $C\\ne 0$ where $\\mu_j=P(Y=j)$ for $j=1,2,...,K$.\n",
    "\n",
    "Based on the above settings,\n",
    "\\begin{eqnarray*}\n",
    "\\mu_j = P(Y=j) &=& \\dfrac{\\exp(\\beta_{j0} + \\sum_{i=1}^k \\beta_{ji} X_i)}{\\sum_{\\ell=1}^K \\exp(\\beta_0 + \\sum_{i=1}^k \\beta_{\\ell i} X_i)} \\mbox{ for } j=1,2,...,K.\n",
    "\\end{eqnarray*}\n",
    "\n",
    "Note that\n",
    "\\begin{align}\n",
    "\\sum_{j=1}^K \\mu_j = 1.\n",
    "\\end{align}\n",
    "\n",
    "<div style=\"text-align: right\"><a href=\"#top\">Back to the top</a></div>"
   ]
  },
  {
   "cell_type": "markdown",
   "metadata": {},
   "source": [
    "### Example of Linear Regression\n",
    "\n",
    "The dataset of diabetes contains 442 recrods of diabetes patients. In the data file, the first column stores the values of a response variable which is indeed a quantitative measure of disease progression one year after baseline and the remaining columns are the age, sex, body mass index, average blood pressure, and six blood serum measurements. All the observations are stored in the data file diabetes.csv (Note that this file has no header information).\n",
    "\n",
    "As demonstrated in the lecture, the `statsmodels` package can generate the standard errors of parameter estimates and diagnostic statistics more easily. In the following, the `scikit-learn` package will be used for illustration purpose."
   ]
  },
  {
   "cell_type": "code",
   "execution_count": 1,
   "metadata": {},
   "outputs": [
    {
     "name": "stdout",
     "output_type": "stream",
     "text": [
      "          S.E.   Variable    Estimate       p-value    t-ratio\n",
      "0     2.575719  Intercept  152.144861  0.000000e+00  59.068897\n",
      "1    59.744502        age  -10.023929  4.334175e-01  -0.167780\n",
      "2    61.235668        sex -239.918384  5.191171e-05  -3.917952\n",
      "3    66.520897        bmi  519.615096  2.176037e-14   7.811306\n",
      "4    65.416914         bp  324.530793  5.056501e-07   4.960962\n",
      "5   416.385890         s1 -795.181921  2.841619e-02  -1.909724\n",
      "6   338.944878         s2  478.939415  7.918427e-02   1.413030\n",
      "7   212.395702         s3  102.441665  3.149135e-01   0.482315\n",
      "8   161.592143         s4  177.964285  1.356865e-01   1.101318\n",
      "9   171.812977         s5  752.487514  7.469098e-06   4.379690\n",
      "10   65.976527         s6   67.351445  1.539516e-01   1.020839\n",
      "R-Squared = 0.5177997409682407\n",
      "Adj. R-Squared = 0.5066117999234203\n",
      "F-Statistics = 46.28195115561165\n"
     ]
    }
   ],
   "source": [
    "import pandas as pd\n",
    "import sklearn\n",
    "from sklearn.linear_model import LinearRegression\n",
    "import numpy as np\n",
    "import scipy as sc\n",
    "import scipy.stats\n",
    "\n",
    "diab = pd.read_csv(\"diabetes.csv\", \n",
    "                   header=None, \n",
    "                   names=['target', 'age', 'sex', 'bmi', 'bp', 's1', 's2', 's3', 's4', 's5', 's6'])\n",
    "varlist = list(diab.columns)\n",
    "y = diab[varlist[0]]\n",
    "x = diab[varlist[1:]]\n",
    "\n",
    "lm = LinearRegression()\n",
    "res = lm.fit(x,y)\n",
    "n, k = x.shape\n",
    "# bhat estimate\n",
    "bhat = np.append(lm.intercept_, lm.coef_)\n",
    "yhat = np.matrix(lm.predict(x)).T\n",
    "# change x and y to np.array\n",
    "x = np.hstack((np.ones((n,1)),np.matrix(x)))\n",
    "y = np.matrix(y).T\n",
    "# degree of freedom\n",
    "df = float(n-k-1)\n",
    "# estimated error variance\n",
    "sse = np.sum(np.square(yhat-y),axis=0)\n",
    "sig2 = sse/df\n",
    "bvar = np.squeeze(np.asarray(sig2*sc.linalg.inv(x.T*x).diagonal()))\n",
    "# standard error of bhat\n",
    "bse = np.sqrt(bvar)\n",
    "# t-statistics of bhat\n",
    "bTstat = np.zeros(len(bse))\n",
    "for i in range(len(bse)):\n",
    "    bTstat[i] = bhat[i]/bse[i]\n",
    "# p-value of bhat\n",
    "bPVal = 1 - scipy.stats.t.cdf(abs(bTstat),df)\n",
    "\n",
    "vlist = ['Intercept']\n",
    "for i in varlist[1:]:\n",
    "    vlist.append(i)\n",
    "dfout = pd.DataFrame({'Variable': vlist,\n",
    "                      'Estimate': bhat,\n",
    "                      'S.E.': bse,\n",
    "                      't-ratio': bTstat,\n",
    "                      'p-value': bPVal})\n",
    "new_order = [2,0,1,4,3]\n",
    "dfout = dfout[dfout.columns[new_order]]\n",
    "# show the estimation result of regression coefficients\n",
    "print(dfout)\n",
    "rsq = sklearn.metrics.r2_score(y, yhat)\n",
    "adjrsq = 1-(1-rsq)*(n-1)/df\n",
    "fstat = rsq / (1-rsq) * df / k\n",
    "print(\"R-Squared =\", rsq)\n",
    "print(\"Adj. R-Squared =\", adjrsq)\n",
    "print(\"F-Statistics =\", fstat)"
   ]
  },
  {
   "cell_type": "markdown",
   "metadata": {},
   "source": [
    "<div style=\"text-align: right\"><a href=\"#top\">Back to the top</a></div>\n",
    "\n",
    "### Model diagnostics"
   ]
  },
  {
   "cell_type": "code",
   "execution_count": 2,
   "metadata": {},
   "outputs": [
    {
     "data": {
      "text/plain": [
       "Text(0.5, 1.0, 'Residual Plot')"
      ]
     },
     "execution_count": 2,
     "metadata": {},
     "output_type": "execute_result"
    },
    {
     "data": {
      "image/png": "[encoded data removed]",
      "text/plain": [
       "<Figure size 720x576 with 1 Axes>"
      ]
     },
     "metadata": {
      "needs_background": "light"
     },
     "output_type": "display_data"
    }
   ],
   "source": [
    "import matplotlib.pyplot as plt\n",
    "%matplotlib inline\n",
    "\n",
    "res = np.squeeze(np.asarray(y)) - np.squeeze(np.asarray(yhat))\n",
    "yplot = np.squeeze(np.asarray(yhat))\n",
    "plt.figure(figsize=(10, 8))\n",
    "plt.scatter(yplot, res)\n",
    "plt.plot(plt.xlim(), [0,0], linestyle='dashed')\n",
    "plt.xlabel('Fitted', fontsize=12)\n",
    "plt.ylabel('Residuals', fontsize=12)\n",
    "plt.title('Residual Plot',fontsize=15, fontweight=\"bold\")"
   ]
  },
  {
   "cell_type": "code",
   "execution_count": 3,
   "metadata": {
    "scrolled": false
   },
   "outputs": [
    {
     "data": {
      "image/png": "[encoded data removed]",
      "text/plain": [
       "<Figure size 720x576 with 1 Axes>"
      ]
     },
     "metadata": {
      "needs_background": "light"
     },
     "output_type": "display_data"
    }
   ],
   "source": [
    "plt.figure(figsize=(10, 8))\n",
    "plt.hist(res, bins=20, edgecolor='k', alpha=0.8)\n",
    "plt.title('Histogram of Residuals',fontsize=15, fontweight=\"bold\")\n",
    "plt.grid(True)"
   ]
  },
  {
   "cell_type": "code",
   "execution_count": 4,
   "metadata": {
    "scrolled": false
   },
   "outputs": [
    {
     "data": {
      "text/plain": [
       "Text(0.5, 1.0, 'Influence Plot')"
      ]
     },
     "execution_count": 4,
     "metadata": {},
     "output_type": "execute_result"
    },
    {
     "data": {
      "image/png": "[encoded data removed]",
      "text/plain": [
       "<Figure size 720x576 with 1 Axes>"
      ]
     },
     "metadata": {
      "needs_background": "light"
     },
     "output_type": "display_data"
    }
   ],
   "source": [
    "# compute leverage for outlier observations\n",
    "Hmat = x @ sc.linalg.inv(x.T*x) @ x.T\n",
    "leverage = np.squeeze(np.asarray(Hmat.diagonal()))\n",
    "mse = sklearn.metrics.mean_squared_error(y, yhat)\n",
    "cookD = np.squeeze(np.asarray(np.square(y-yhat)))/((k+1)*mse)*leverage/(1-np.square(leverage))\n",
    "rstudent = np.squeeze(np.asarray(y-yhat))/np.squeeze(np.asarray(np.sqrt(sig2*(1-leverage))))\n",
    "\n",
    "plt.figure(figsize=(10, 8))\n",
    "plt.scatter(leverage, rstudent)\n",
    "plt.xlabel('Leverage', fontsize=12)\n",
    "plt.ylabel('Studentized Residuals', fontsize=12)\n",
    "plt.title('Influence Plot',fontsize=15, fontweight=\"bold\")"
   ]
  },
  {
   "cell_type": "markdown",
   "metadata": {},
   "source": [
    "<div style=\"text-align: right\"><a href=\"#top\">Back to the top</a></div>\n",
    "\n",
    "### Detect Collinearity"
   ]
  },
  {
   "cell_type": "code",
   "execution_count": 5,
   "metadata": {
    "scrolled": true
   },
   "outputs": [
    {
     "data": {
      "text/html": [
       "<div>\n",
       "<style scoped>\n",
       "    .dataframe tbody tr th:only-of-type {\n",
       "        vertical-align: middle;\n",
       "    }\n",
       "\n",
       "    .dataframe tbody tr th {\n",
       "        vertical-align: top;\n",
       "    }\n",
       "\n",
       "    .dataframe thead th {\n",
       "        text-align: right;\n",
       "    }\n",
       "</style>\n",
       "<table border=\"1\" class=\"dataframe\">\n",
       "  <thead>\n",
       "    <tr style=\"text-align: right;\">\n",
       "      <th></th>\n",
       "      <th>age</th>\n",
       "      <th>sex</th>\n",
       "      <th>bmi</th>\n",
       "      <th>bp</th>\n",
       "      <th>s1</th>\n",
       "      <th>s2</th>\n",
       "      <th>s3</th>\n",
       "      <th>s4</th>\n",
       "      <th>s5</th>\n",
       "      <th>s6</th>\n",
       "    </tr>\n",
       "  </thead>\n",
       "  <tbody>\n",
       "    <tr>\n",
       "      <th>age</th>\n",
       "      <td>1.000000</td>\n",
       "      <td>0.173705</td>\n",
       "      <td>0.185129</td>\n",
       "      <td>0.335340</td>\n",
       "      <td>0.259963</td>\n",
       "      <td>0.219223</td>\n",
       "      <td>-0.075238</td>\n",
       "      <td>0.203958</td>\n",
       "      <td>0.270790</td>\n",
       "      <td>0.301877</td>\n",
       "    </tr>\n",
       "    <tr>\n",
       "      <th>sex</th>\n",
       "      <td>0.173705</td>\n",
       "      <td>1.000000</td>\n",
       "      <td>0.088065</td>\n",
       "      <td>0.240991</td>\n",
       "      <td>0.035238</td>\n",
       "      <td>0.142650</td>\n",
       "      <td>-0.379108</td>\n",
       "      <td>0.332159</td>\n",
       "      <td>0.149896</td>\n",
       "      <td>0.208093</td>\n",
       "    </tr>\n",
       "    <tr>\n",
       "      <th>bmi</th>\n",
       "      <td>0.185129</td>\n",
       "      <td>0.088065</td>\n",
       "      <td>1.000000</td>\n",
       "      <td>0.395364</td>\n",
       "      <td>0.249733</td>\n",
       "      <td>0.261150</td>\n",
       "      <td>-0.366709</td>\n",
       "      <td>0.413754</td>\n",
       "      <td>0.446157</td>\n",
       "      <td>0.388626</td>\n",
       "    </tr>\n",
       "    <tr>\n",
       "      <th>bp</th>\n",
       "      <td>0.335340</td>\n",
       "      <td>0.240991</td>\n",
       "      <td>0.395364</td>\n",
       "      <td>1.000000</td>\n",
       "      <td>0.242347</td>\n",
       "      <td>0.185457</td>\n",
       "      <td>-0.178793</td>\n",
       "      <td>0.257551</td>\n",
       "      <td>0.393465</td>\n",
       "      <td>0.390566</td>\n",
       "    </tr>\n",
       "    <tr>\n",
       "      <th>s1</th>\n",
       "      <td>0.259963</td>\n",
       "      <td>0.035238</td>\n",
       "      <td>0.249733</td>\n",
       "      <td>0.242347</td>\n",
       "      <td>1.000000</td>\n",
       "      <td>0.896742</td>\n",
       "      <td>0.051404</td>\n",
       "      <td>0.542271</td>\n",
       "      <td>0.515459</td>\n",
       "      <td>0.325643</td>\n",
       "    </tr>\n",
       "    <tr>\n",
       "      <th>s2</th>\n",
       "      <td>0.219223</td>\n",
       "      <td>0.142650</td>\n",
       "      <td>0.261150</td>\n",
       "      <td>0.185457</td>\n",
       "      <td>0.896742</td>\n",
       "      <td>1.000000</td>\n",
       "      <td>-0.196489</td>\n",
       "      <td>0.659900</td>\n",
       "      <td>0.318450</td>\n",
       "      <td>0.290463</td>\n",
       "    </tr>\n",
       "    <tr>\n",
       "      <th>s3</th>\n",
       "      <td>-0.075238</td>\n",
       "      <td>-0.379108</td>\n",
       "      <td>-0.366709</td>\n",
       "      <td>-0.178793</td>\n",
       "      <td>0.051404</td>\n",
       "      <td>-0.196489</td>\n",
       "      <td>1.000000</td>\n",
       "      <td>-0.738593</td>\n",
       "      <td>-0.398632</td>\n",
       "      <td>-0.273650</td>\n",
       "    </tr>\n",
       "    <tr>\n",
       "      <th>s4</th>\n",
       "      <td>0.203958</td>\n",
       "      <td>0.332159</td>\n",
       "      <td>0.413754</td>\n",
       "      <td>0.257551</td>\n",
       "      <td>0.542271</td>\n",
       "      <td>0.659900</td>\n",
       "      <td>-0.738593</td>\n",
       "      <td>1.000000</td>\n",
       "      <td>0.617953</td>\n",
       "      <td>0.417135</td>\n",
       "    </tr>\n",
       "    <tr>\n",
       "      <th>s5</th>\n",
       "      <td>0.270790</td>\n",
       "      <td>0.149896</td>\n",
       "      <td>0.446157</td>\n",
       "      <td>0.393465</td>\n",
       "      <td>0.515459</td>\n",
       "      <td>0.318450</td>\n",
       "      <td>-0.398632</td>\n",
       "      <td>0.617953</td>\n",
       "      <td>1.000000</td>\n",
       "      <td>0.464778</td>\n",
       "    </tr>\n",
       "    <tr>\n",
       "      <th>s6</th>\n",
       "      <td>0.301877</td>\n",
       "      <td>0.208093</td>\n",
       "      <td>0.388626</td>\n",
       "      <td>0.390566</td>\n",
       "      <td>0.325643</td>\n",
       "      <td>0.290463</td>\n",
       "      <td>-0.273650</td>\n",
       "      <td>0.417135</td>\n",
       "      <td>0.464778</td>\n",
       "      <td>1.000000</td>\n",
       "    </tr>\n",
       "  </tbody>\n",
       "</table>\n",
       "</div>"
      ],
      "text/plain": [
       "          age       sex       bmi        bp        s1        s2        s3  \\\n",
       "age  1.000000  0.173705  0.185129  0.335340  0.259963  0.219223 -0.075238   \n",
       "sex  0.173705  1.000000  0.088065  0.240991  0.035238  0.142650 -0.379108   \n",
       "bmi  0.185129  0.088065  1.000000  0.395364  0.249733  0.261150 -0.366709   \n",
       "bp   0.335340  0.240991  0.395364  1.000000  0.242347  0.185457 -0.178793   \n",
       "s1   0.259963  0.035238  0.249733  0.242347  1.000000  0.896742  0.051404   \n",
       "s2   0.219223  0.142650  0.261150  0.185457  0.896742  1.000000 -0.196489   \n",
       "s3  -0.075238 -0.379108 -0.366709 -0.178793  0.051404 -0.196489  1.000000   \n",
       "s4   0.203958  0.332159  0.413754  0.257551  0.542271  0.659900 -0.738593   \n",
       "s5   0.270790  0.149896  0.446157  0.393465  0.515459  0.318450 -0.398632   \n",
       "s6   0.301877  0.208093  0.388626  0.390566  0.325643  0.290463 -0.273650   \n",
       "\n",
       "           s4        s5        s6  \n",
       "age  0.203958  0.270790  0.301877  \n",
       "sex  0.332159  0.149896  0.208093  \n",
       "bmi  0.413754  0.446157  0.388626  \n",
       "bp   0.257551  0.393465  0.390566  \n",
       "s1   0.542271  0.515459  0.325643  \n",
       "s2   0.659900  0.318450  0.290463  \n",
       "s3  -0.738593 -0.398632 -0.273650  \n",
       "s4   1.000000  0.617953  0.417135  \n",
       "s5   0.617953  1.000000  0.464778  \n",
       "s6   0.417135  0.464778  1.000000  "
      ]
     },
     "execution_count": 5,
     "metadata": {},
     "output_type": "execute_result"
    }
   ],
   "source": [
    "diab[varlist[1:]].corr()"
   ]
  },
  {
   "cell_type": "markdown",
   "metadata": {},
   "source": [
    "What do you observe from the above correlation matrix?"
   ]
  },
  {
   "cell_type": "code",
   "execution_count": 6,
   "metadata": {},
   "outputs": [
    {
     "data": {
      "text/plain": [
       "array([ 1.22,  1.28,  1.51,  1.46, 59.14, 39.17, 15.38,  8.9 , 10.06,\n",
       "        1.48])"
      ]
     },
     "execution_count": 6,
     "metadata": {},
     "output_type": "execute_result"
    }
   ],
   "source": [
    "# compute VIF\n",
    "vif_reg = LinearRegression()\n",
    "vif = np.zeros(k)\n",
    "for i in range(1,x.shape[1]):\n",
    "    vif_x = np.delete(x,[0,i],axis=1)\n",
    "    vif_y = x[:,i]\n",
    "    vif_reg.fit(vif_x, vif_y)\n",
    "    xhat = np.matrix(vif_reg.predict(vif_x))\n",
    "    vif_rsq = sklearn.metrics.r2_score(vif_y, xhat)\n",
    "    vif[i-1] = 1/(1-vif_rsq)\n",
    "np.round(vif,2)"
   ]
  },
  {
   "cell_type": "markdown",
   "metadata": {},
   "source": [
    "Typically, when the VIF of $\\hat\\beta_j$ is greater than 10, the corresponding input variable $X_j$ is problematic.\n",
    "\n",
    "<div style=\"text-align: right\"><a href=\"#top\">Back to the top</a></div>"
   ]
  },
  {
   "cell_type": "markdown",
   "metadata": {},
   "source": [
    "### Example of Logistic Regression Model\n",
    "\n",
    "Consider a glass identificaiton data set in UCI Machine Learning Repository. In this data set, there are 214 observations and the glasses are classified into 7 categories. The types of glasses are described as follows:\n",
    "\n",
    "1. building_windows_float_processed\n",
    "2. building_windows_non_float_processed\n",
    "3. vehicle_windows_float_processed\n",
    "4. vehicle_windows_non_float_processed (none in this database)\n",
    "5. containers\n",
    "6. tableware\n",
    "7. headlamps\n",
    "\n",
    "Also, the glasses are identified by 10 input variables:\n",
    "\n",
    "1.  Id number: 1 to 214\n",
    "2.  RI: refractive index\n",
    "3.  Na: Sodium (unit measurement: weight percent in the corresponding oxide, as attributes 4-10)\n",
    "4.  Mg: Magnesium\n",
    "5.  Al: Aluminum\n",
    "6.  Si: Silicon\n",
    "7.  K: Potassium\n",
    "8.  Ca: Calcium\n",
    "9.  Ba: Barium\n",
    "10. Fe: Iron\n",
    "\n",
    "Now, to demonstrate the logistic regression model, we focus on the classification of building windows. Then, we are required to construct a new target variable `ynew`. As demonstrated in a lecture example, the package `statsmodels` is more suitable for statistical inference and model building while `scikit-learn` is more capable of prediction and classification. Also, in previous example of linear regression, more codes are necessary to produce the results. Therefore, the choice of packages depends on the objective of projects."
   ]
  },
  {
   "cell_type": "code",
   "execution_count": 7,
   "metadata": {},
   "outputs": [],
   "source": [
    "import pandas as pd\n",
    "import sklearn\n",
    "from sklearn.linear_model import LogisticRegression\n",
    "from sklearn.metrics import accuracy_score\n",
    "import numpy as np\n",
    "\n",
    "glass = pd.read_csv(\"glass.data.csv\", \n",
    "                    header=None,\n",
    "                    names=[\"Id\", \"RI\", \"Na\", \"Mg\", \"Al\", \"Si\", \"K\", \"Ca\", \"Ba\", \"Fe\", \"glass-type\"])\n",
    "glass = glass.drop(\"Id\", axis=1)\n",
    "varlist = list(glass.columns)\n",
    "y = glass.iloc[:,len(varlist)-1]\n",
    "x = glass.iloc[:,:len(varlist)-1]\n",
    "ynew = (y == 1).astype(np.int) + (y == 2).astype(np.int)"
   ]
  },
  {
   "cell_type": "code",
   "execution_count": 8,
   "metadata": {},
   "outputs": [
    {
     "name": "stdout",
     "output_type": "stream",
     "text": [
      "Coefficients : [7.513] [[ 0.0072 -0.4213  0.5106 -0.3952 -0.0483  0.0174  0.1374 -0.1839  0.3732]]\n",
      "Accuracy = 0.8598\n"
     ]
    }
   ],
   "source": [
    "log_reg = LogisticRegression(multi_class=\"multinomial\", solver=\"newton-cg\")\n",
    "log_res = log_reg.fit(x, ynew)\n",
    "y_pred = log_reg.predict(x)\n",
    "accuracy = accuracy_score(ynew, y_pred)\n",
    "print(\"Coefficients :\", np.round(log_reg.intercept_,4), np.round(log_reg.coef_,4))\n",
    "print(\"Accuracy =\", np.round(accuracy,4))"
   ]
  },
  {
   "cell_type": "markdown",
   "metadata": {},
   "source": [
    "<div style=\"text-align: right\"><a href=\"#top\">Back to the top</a></div>\n",
    "\n",
    "#### Accessment of Model Performance \n",
    "\n",
    "ROC curve is a typical tool to access the predictive performance of classification model. However, ROC curve is limited to binary classification only. The associated performance measure of ROC curve is the area under ROC (AUC). The lower bound of AUC is 0.5 (which indicates the random guessing in binary classifcation) while the upper bound of AUC is 1. In general, the larger the AUC, the better the predictive performance of this classification model."
   ]
  },
  {
   "cell_type": "code",
   "execution_count": 9,
   "metadata": {},
   "outputs": [
    {
     "name": "stdout",
     "output_type": "stream",
     "text": [
      "Area under ROC = 0.8418\n"
     ]
    },
    {
     "data": {
      "text/plain": [
       "Text(0, 0.5, 'True Positive Rate')"
      ]
     },
     "execution_count": 9,
     "metadata": {},
     "output_type": "execute_result"
    },
    {
     "data": {
      "image/png": "[encoded data removed]",
      "text/plain": [
       "<Figure size 720x576 with 1 Axes>"
      ]
     },
     "metadata": {
      "needs_background": "light"
     },
     "output_type": "display_data"
    }
   ],
   "source": [
    "import matplotlib.pyplot as plt\n",
    "%matplotlib inline\n",
    "\n",
    "from sklearn.metrics import roc_curve, auc\n",
    "\n",
    "probs = log_reg.predict_proba(x)\n",
    "fpr, tpr, thresholds = roc_curve(ynew, probs[:, 1])\n",
    "roc_auc = auc(fpr, tpr)\n",
    "print(\"Area under ROC =\", np.round(roc_auc,4))\n",
    "\n",
    "plt.figure(figsize=(10, 8))\n",
    "plt.plot(fpr, tpr, linewidth=2)\n",
    "plt.plot([0,1],[0,1],'k--')\n",
    "plt.axis([0,1,0,1])\n",
    "plt.xlabel('False Positive Rate')\n",
    "plt.ylabel('True Positive Rate')"
   ]
  },
  {
   "cell_type": "markdown",
   "metadata": {},
   "source": [
    "<div style=\"text-align: right\"><a href=\"#top\">Back to the top</a></div>\n",
    "\n",
    "### Example of Softmax Regression Model\n",
    "\n",
    "To illustrate the softmax regression, the same dataset as in the logistic regression is considered. But, we will consider the classification of 7 types of glasses. In this example, the observations of glasses are re-grouped into three types, namely, 1=building_windows type, 2=vechicle_windows type and 3=others."
   ]
  },
  {
   "cell_type": "code",
   "execution_count": 10,
   "metadata": {},
   "outputs": [
    {
     "name": "stdout",
     "output_type": "stream",
     "text": [
      "Coefficients : [  221.9936  2776.2732 -2998.2668] [[ 1.1828950e+02 -3.9845000e+00 -3.3755000e+00 -6.1962000e+00\n",
      "  -4.0093000e+00 -2.6650000e+00 -3.8849000e+00 -3.6381000e+00\n",
      "   2.9345000e+00]\n",
      " [-1.4364831e+03 -4.4759000e+00 -1.4422000e+00 -7.2499000e+00\n",
      "  -6.9941000e+00 -5.4237000e+00 -1.2616000e+00 -3.7577000e+00\n",
      "   8.5160000e-01]\n",
      " [ 1.3181936e+03  8.4604000e+00  4.8177000e+00  1.3446100e+01\n",
      "   1.1003400e+01  8.0887000e+00  5.1464000e+00  7.3958000e+00\n",
      "  -3.7862000e+00]]\n",
      "Accuracy = 0.8551\n"
     ]
    }
   ],
   "source": [
    "import pandas as pd\n",
    "import sklearn\n",
    "from sklearn.linear_model import LogisticRegression\n",
    "from sklearn.metrics import accuracy_score\n",
    "import numpy as np\n",
    "\n",
    "glass = pd.read_csv(\"glass.data.csv\", \n",
    "                    header=None,\n",
    "                    names=[\"Id\", \"RI\", \"Na\", \"Mg\", \"Al\", \"Si\", \"K\", \"Ca\", \"Ba\", \"Fe\", \"glass-type\"])\n",
    "glass = glass.drop(\"Id\", axis=1)\n",
    "varlist = list(glass.columns)\n",
    "y = glass.iloc[:,len(varlist)-1]\n",
    "x = glass.iloc[:,:len(varlist)-1]\n",
    "y1 = (y == 1).astype(np.int) + (y == 2).astype(np.int)\n",
    "y2 = (y == 3).astype(np.int)*2 + (y == 4).astype(np.int)*2\n",
    "y3 = (y == 5).astype(np.int)*3 + (y == 6).astype(np.int)*3 + (y == 7).astype(np.int)*3\n",
    "ynew = y1 + y2 + y3\n",
    "\n",
    "softmaxreg = LogisticRegression(multi_class=\"multinomial\", solver=\"newton-cg\", C=1e10, max_iter=500)\n",
    "soft_reg = softmaxreg.fit(x, ynew)\n",
    "y_pred = soft_reg.predict(x)\n",
    "accuracy = accuracy_score(ynew, y_pred)\n",
    "print(\"Coefficients :\", np.round(soft_reg.intercept_,4), np.round(soft_reg.coef_,4))\n",
    "print(\"Accuracy =\", np.round(accuracy,4))"
   ]
  },
  {
   "cell_type": "markdown",
   "metadata": {},
   "source": [
    "To further access the performance of softmax regression model, one may need to compute the correct classification rate of particular value of target value. For example, if we are interested in the correct classification of Y=1, one can select the observations with $Y=1$ and compute the percentage of correctly classified observations."
   ]
  },
  {
   "cell_type": "code",
   "execution_count": 11,
   "metadata": {},
   "outputs": [
    {
     "name": "stdout",
     "output_type": "stream",
     "text": [
      "Correction Classification of Y=1: 0.9521\n",
      "Correction Classification of Y=2: 0.0588\n",
      "Correction Classification of Y=3: 0.8431\n"
     ]
    }
   ],
   "source": [
    "print(\"Correction Classification of Y=1:\",np.round(np.sum(y_pred[ynew == 1] == 1)/np.sum(ynew == 1),4))\n",
    "print(\"Correction Classification of Y=2:\",np.round(np.sum(y_pred[ynew == 2] == 2)/np.sum(ynew == 2),4))\n",
    "print(\"Correction Classification of Y=3:\",np.round(np.sum(y_pred[ynew == 3] == 3)/np.sum(ynew == 3),4))"
   ]
  },
  {
   "cell_type": "markdown",
   "metadata": {},
   "source": [
    "<div style=\"text-align: right\"><a href=\"#top\">Back to the top</a></div>\n",
    "\n",
    "Furthermore, `statsmodels` package is also capable of performinng softmax regression."
   ]
  },
  {
   "cell_type": "code",
   "execution_count": 12,
   "metadata": {},
   "outputs": [
    {
     "name": "stdout",
     "output_type": "stream",
     "text": [
      "Optimization terminated successfully.\n",
      "         Current function value: 0.299331\n",
      "         Iterations 13\n",
      "                          MNLogit Regression Results                          \n",
      "==============================================================================\n",
      "Dep. Variable:             glass-type   No. Observations:                  214\n",
      "Model:                        MNLogit   Df Residuals:                      194\n",
      "Method:                           MLE   Df Model:                           18\n",
      "Date:                Tue, 19 Mar 2019   Pseudo R-squ.:                  0.6276\n",
      "Time:                        11:14:24   Log-Likelihood:                -64.057\n",
      "converged:                       True   LL-Null:                       -172.02\n",
      "                                        LLR p-value:                 6.370e-36\n",
      "================================================================================\n",
      "glass-type=2       coef    std err          z      P>|z|      [0.025      0.975]\n",
      "--------------------------------------------------------------------------------\n",
      "const         2558.8616    738.609      3.464      0.001    1111.215    4006.508\n",
      "RI           -1556.6872    460.457     -3.381      0.001   -2459.167    -654.208\n",
      "Na              -0.5059      2.201     -0.230      0.818      -4.820       3.809\n",
      "Mg               1.9211      2.589      0.742      0.458      -3.153       6.995\n",
      "Al              -1.0697      2.702     -0.396      0.692      -6.366       4.227\n",
      "Si              -3.0029      2.328     -1.290      0.197      -7.565       1.559\n",
      "K               -2.7761      3.068     -0.905      0.366      -8.790       3.237\n",
      "Ca               2.6127      2.595      1.007      0.314      -2.473       7.699\n",
      "Ba              -0.1309      4.364     -0.030      0.976      -8.684       8.423\n",
      "Fe              -2.0846      3.504     -0.595      0.552      -8.952       4.783\n",
      "--------------------------------------------------------------------------------\n",
      "glass-type=3       coef    std err          z      P>|z|      [0.025      0.975]\n",
      "--------------------------------------------------------------------------------\n",
      "const        -3231.3769   1107.584     -2.918      0.004   -5402.202   -1060.552\n",
      "RI            1201.2440    449.633      2.672      0.008     319.979    2082.509\n",
      "Na              12.5314      6.113      2.050      0.040       0.549      24.514\n",
      "Mg               8.2751      5.795      1.428      0.153      -3.083      19.633\n",
      "Al              19.7365      7.057      2.797      0.005       5.904      33.569\n",
      "Si              15.1057      6.684      2.260      0.024       2.005      28.206\n",
      "K               10.8406      6.292      1.723      0.085      -1.491      23.173\n",
      "Ca               9.1146      5.862      1.555      0.120      -2.374      20.603\n",
      "Ba              11.1204      6.099      1.823      0.068      -0.833      23.074\n",
      "Fe              -6.6799      5.822     -1.147      0.251     -18.091       4.732\n",
      "================================================================================\n"
     ]
    },
    {
     "name": "stderr",
     "output_type": "stream",
     "text": [
      "D:\\anaconda3\\envs\\keras\\lib\\site-packages\\numpy\\core\\fromnumeric.py:2223: FutureWarning: Method .ptp is deprecated and will be removed in a future version. Use numpy.ptp instead.\n",
      "  return ptp(axis=axis, out=out, **kwargs)\n"
     ]
    }
   ],
   "source": [
    "import statsmodels.api as sm\n",
    "\n",
    "xnew = sm.add_constant(x)\n",
    "softreg = sm.MNLogit(ynew,xnew).fit()\n",
    "print(softreg.summary())"
   ]
  },
  {
   "cell_type": "markdown",
   "metadata": {},
   "source": [
    "Note that in` statsmodels` package, alternative formulation of softmax regression model is considered. Specifcally, the first level ($Y=1$) in the target variable is chosen as the reference level. So, when the predicted $P(Y=2)$ (i.e. $\\hat\\mu_2$) and predicted $P(Y=3)$ (i.e. $\\hat\\mu_3$) are calculated, the predicted $P(Y=1)$ (i.e. $\\hat\\mu_1$)  is computed by $1-\\hat\\mu_2 - \\hat\\mu_3$.\n",
    "\n",
    "<div style=\"text-align: right\"><a href=\"#top\">Back to the top</a></div>"
   ]
  }
 ],
 "metadata": {
  "kernelspec": {
   "display_name": "Python 3",
   "language": "python",
   "name": "python3"
  },
  "language_info": {
   "codemirror_mode": {
    "name": "ipython",
    "version": 3
   },
   "file_extension": ".py",
   "mimetype": "text/x-python",
   "name": "python",
   "nbconvert_exporter": "python",
   "pygments_lexer": "ipython3",
   "version": "3.6.8"
  }
 },
 "nbformat": 4,
 "nbformat_minor": 2
}
